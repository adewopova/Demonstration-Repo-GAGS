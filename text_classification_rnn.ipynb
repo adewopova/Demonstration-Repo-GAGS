{
 "cells": [
  {
   "cell_type": "markdown",
   "metadata": {
    "id": "hX4n9TsbGw-f"
   },
   "source": [
    "##### Copyright 2018 The TensorFlow Authors."
   ]
  },
  {
   "cell_type": "code",
   "execution_count": 1,
   "metadata": {
    "cellView": "form",
    "execution": {
     "iopub.execute_input": "2021-01-13T03:51:06.845716Z",
     "iopub.status.busy": "2021-01-13T03:51:06.845029Z",
     "iopub.status.idle": "2021-01-13T03:51:06.846763Z",
     "shell.execute_reply": "2021-01-13T03:51:06.847319Z"
    },
    "id": "0nbI5DtDGw-i"
   },
   "outputs": [],
   "source": [
    "#@title Licensed under the Apache License, Version 2.0 (the \"License\");\n",
    "# you may not use this file except in compliance with the License.\n",
    "# You may obtain a copy of the License at\n",
    "#\n",
    "# https://www.apache.org/licenses/LICENSE-2.0\n",
    "#\n",
    "# Unless required by applicable law or agreed to in writing, software\n",
    "# distributed under the License is distributed on an \"AS IS\" BASIS,\n",
    "# WITHOUT WARRANTIES OR CONDITIONS OF ANY KIND, either express or implied.\n",
    "# See the License for the specific language governing permissions and\n",
    "# limitations under the License."
   ]
  },
  {
   "cell_type": "markdown",
   "metadata": {
    "id": "9TnJztDZGw-n"
   },
   "source": [
    "# Text classification with an RNN"
   ]
  },
  {
   "cell_type": "markdown",
   "metadata": {
    "id": "AfN3bMR5Gw-o"
   },
   "source": [
    "<table class=\"tfo-notebook-buttons\" align=\"left\">\n",
    "  <td>\n",
    "    <a target=\"_blank\" href=\"https://www.tensorflow.org/tutorials/text/text_classification_rnn\"><img src=\"https://www.tensorflow.org/images/tf_logo_32px.png\" />View on TensorFlow.org</a>\n",
    "  </td>\n",
    "  <td>\n",
    "    <a target=\"_blank\" href=\"https://colab.research.google.com/github/tensorflow/docs/blob/master/site/en/tutorials/text/text_classification_rnn.ipynb\"><img src=\"https://www.tensorflow.org/images/colab_logo_32px.png\" />Run in Google Colab</a>\n",
    "  </td>\n",
    "  <td>\n",
    "    <a target=\"_blank\" href=\"https://github.com/tensorflow/docs/blob/master/site/en/tutorials/text/text_classification_rnn.ipynb\"><img src=\"https://www.tensorflow.org/images/GitHub-Mark-32px.png\" />View source on GitHub</a>\n",
    "  </td>\n",
    "  <td>\n",
    "    <a href=\"https://storage.googleapis.com/tensorflow_docs/docs/site/en/tutorials/text/text_classification_rnn.ipynb\"><img src=\"https://www.tensorflow.org/images/download_logo_32px.png\" />Download notebook</a>\n",
    "  </td>\n",
    "</table>"
   ]
  },
  {
   "cell_type": "markdown",
   "metadata": {
    "id": "lUWearf0Gw-p"
   },
   "source": [
    "This text classification tutorial trains a [recurrent neural network](https://developers.google.com/machine-learning/glossary/#recurrent_neural_network) on the [IMDB large movie review dataset](http://ai.stanford.edu/~amaas/data/sentiment/) for sentiment analysis."
   ]
  },
  {
   "cell_type": "markdown",
   "metadata": {
    "id": "_2VQo4bajwUU"
   },
   "source": [
    "## Setup"
   ]
  },
  {
   "cell_type": "code",
   "execution_count": 2,
   "metadata": {
    "execution": {
     "iopub.execute_input": "2021-01-13T03:51:06.856805Z",
     "iopub.status.busy": "2021-01-13T03:51:06.856114Z",
     "iopub.status.idle": "2021-01-13T03:51:08.371883Z",
     "shell.execute_reply": "2021-01-13T03:51:08.372435Z"
    },
    "id": "vH_FAfIz5dEw"
   },
   "outputs": [],
   "source": [
    "!pip install -q tensorflow_datasets"
   ]
  },
  {
   "cell_type": "code",
   "execution_count": 3,
   "metadata": {
    "execution": {
     "iopub.execute_input": "2021-01-13T03:51:08.377448Z",
     "iopub.status.busy": "2021-01-13T03:51:08.376763Z",
     "iopub.status.idle": "2021-01-13T03:51:15.989069Z",
     "shell.execute_reply": "2021-01-13T03:51:15.988434Z"
    },
    "id": "z682XYsrjkY9"
   },
   "outputs": [],
   "source": [
    "import numpy as np\n",
    "\n",
    "import tensorflow_datasets as tfds\n",
    "import tensorflow as tf\n",
    "\n",
    "tfds.disable_progress_bar()"
   ]
  },
  {
   "cell_type": "markdown",
   "metadata": {
    "id": "1rXHa-w9JZhb"
   },
   "source": [
    "Import `matplotlib` and create a helper function to plot graphs:"
   ]
  },
  {
   "cell_type": "code",
   "execution_count": 4,
   "metadata": {
    "execution": {
     "iopub.execute_input": "2021-01-13T03:51:15.994569Z",
     "iopub.status.busy": "2021-01-13T03:51:15.993860Z",
     "iopub.status.idle": "2021-01-13T03:51:15.996221Z",
     "shell.execute_reply": "2021-01-13T03:51:15.995646Z"
    },
    "id": "Mp1Z7P9pYRSK"
   },
   "outputs": [],
   "source": [
    "import matplotlib.pyplot as plt\n",
    "\n",
    "def plot_graphs(history, metric):\n",
    "  plt.plot(history.history[metric])\n",
    "  plt.plot(history.history['val_'+metric], '')\n",
    "  plt.xlabel(\"Epochs\")\n",
    "  plt.ylabel(metric)\n",
    "  plt.legend([metric, 'val_'+metric])"
   ]
  },
  {
   "cell_type": "markdown",
   "metadata": {
    "id": "pRmMubr0jrE2"
   },
   "source": [
    "## Setup input pipeline\n",
    "\n",
    "\n",
    "The IMDB large movie review dataset is a *binary classification* dataset—all the reviews have either a *positive* or *negative* sentiment.\n",
    "\n",
    "Download the dataset using [TFDS](https://www.tensorflow.org/datasets). See the [loading text tutorial](../load_data/text.ipynb) for details on how to load this sort of data manually.\n"
   ]
  },
  {
   "cell_type": "code",
   "execution_count": 5,
   "metadata": {
    "execution": {
     "iopub.execute_input": "2021-01-13T03:51:16.001184Z",
     "iopub.status.busy": "2021-01-13T03:51:16.000514Z",
     "iopub.status.idle": "2021-01-13T03:51:17.568416Z",
     "shell.execute_reply": "2021-01-13T03:51:17.568875Z"
    },
    "id": "SHRwRoP2nVHX"
   },
   "outputs": [
    {
     "data": {
      "text/plain": [
       "(TensorSpec(shape=(), dtype=tf.string, name=None),\n",
       " TensorSpec(shape=(), dtype=tf.int64, name=None))"
      ]
     },
     "execution_count": 1,
     "metadata": {},
     "output_type": "execute_result"
    }
   ],
   "source": [
    "dataset, info = tfds.load('imdb_reviews', with_info=True,\n",
    "                          as_supervised=True)\n",
    "train_dataset, test_dataset = dataset['train'], dataset['test']\n",
    "\n",
    "train_dataset.element_spec"
   ]
  },
  {
   "cell_type": "markdown",
   "metadata": {
    "id": "nWA4c2ir7g6p"
   },
   "source": [
    "Initially this returns a dataset of (text, label pairs):"
   ]
  },
  {
   "cell_type": "code",
   "execution_count": 6,
   "metadata": {
    "execution": {
     "iopub.execute_input": "2021-01-13T03:51:17.574503Z",
     "iopub.status.busy": "2021-01-13T03:51:17.573198Z",
     "iopub.status.idle": "2021-01-13T03:51:17.618857Z",
     "shell.execute_reply": "2021-01-13T03:51:17.619346Z"
    },
    "id": "vd4_BGKyurao"
   },
   "outputs": [
    {
     "name": "stdout",
     "output_type": "stream",
     "text": [
      "text:  b\"This was an absolutely terrible movie. Don't be lured in by Christopher Walken or Michael Ironside. Both are great actors, but this must simply be their worst role in history. Even their great acting could not redeem this movie's ridiculous storyline. This movie is an early nineties US propaganda piece. The most pathetic scenes were those when the Columbian rebels were making their cases for revolutions. Maria Conchita Alonso appeared phony, and her pseudo-love affair with Walken was nothing but a pathetic emotional plug in a movie that was devoid of any real meaning. I am disappointed that there are movies like this, ruining actor's like Christopher Walken's good name. I could barely sit through it.\"\n",
      "label:  0\n"
     ]
    }
   ],
   "source": [
    "for example, label in train_dataset.take(1):\n",
    "  print('text: ', example.numpy())\n",
    "  print('label: ', label.numpy())"
   ]
  },
  {
   "cell_type": "markdown",
   "metadata": {
    "id": "z2qVJzcEluH_"
   },
   "source": [
    "Next shuffle the data for training and create batches of these `(text, label)` pairs:"
   ]
  },
  {
   "cell_type": "code",
   "execution_count": 7,
   "metadata": {
    "execution": {
     "iopub.execute_input": "2021-01-13T03:51:17.623697Z",
     "iopub.status.busy": "2021-01-13T03:51:17.623008Z",
     "iopub.status.idle": "2021-01-13T03:51:17.624931Z",
     "shell.execute_reply": "2021-01-13T03:51:17.625389Z"
    },
    "id": "dDsCaZCDYZgm"
   },
   "outputs": [],
   "source": [
    "BUFFER_SIZE = 10000\n",
    "BATCH_SIZE = 64"
   ]
  },
  {
   "cell_type": "code",
   "execution_count": 8,
   "metadata": {
    "execution": {
     "iopub.execute_input": "2021-01-13T03:51:17.629810Z",
     "iopub.status.busy": "2021-01-13T03:51:17.629159Z",
     "iopub.status.idle": "2021-01-13T03:51:17.632829Z",
     "shell.execute_reply": "2021-01-13T03:51:17.633249Z"
    },
    "id": "VznrltNOnUc5"
   },
   "outputs": [],
   "source": [
    "train_dataset = train_dataset.shuffle(BUFFER_SIZE).batch(BATCH_SIZE).prefetch(tf.data.AUTOTUNE)\n",
    "test_dataset = test_dataset.batch(BATCH_SIZE).prefetch(tf.data.AUTOTUNE)"
   ]
  },
  {
   "cell_type": "code",
   "execution_count": 9,
   "metadata": {
    "execution": {
     "iopub.execute_input": "2021-01-13T03:51:17.638666Z",
     "iopub.status.busy": "2021-01-13T03:51:17.637321Z",
     "iopub.status.idle": "2021-01-13T03:51:17.883181Z",
     "shell.execute_reply": "2021-01-13T03:51:17.883586Z"
    },
    "id": "jqkvdcFv41wC"
   },
   "outputs": [
    {
     "name": "stdout",
     "output_type": "stream",
     "text": [
      "texts:  [b'Cult of the Cobra is now available on DVD in a pristine print that does full justice to whatever merits it has as a movie. Unfortunately, that is not saying much.<br /><br />It has a competent cast of second-rankers that acquit themselves as well as could be expected under the circumstances. It is efficiently directed, entirely on sound stages and standing sets on the studio backlot. It looks OK, but is ponderously over-plotted and at a scant 80 minutes it is still heavily padded.<br /><br />For example, the double cobra attack on the first of the GIs was surely one attack too many.<br /><br />The business about Julia choosing to marry Pete rather than Tom never amounts to anything. Tom immediately falls in love with Lisa and she never has any reason to be jealous of Julia (nor is she).<br /><br />Julia\\'s \\'feminine intuition\\' is introduced as if it is going to lead to an important plot development, but it doesn\\'t. Similarly, Pete\\'s investigation into cobra cults and the suspicion that briefly falls on Tom serve no purpose other than to fill up screen time.<br /><br />These are just symptoms of the underlying problem. The movie is structured like a mystery but it isn\\'t. As soon as the curse is pronounced we know exactly where the story is heading, so the characters are left painstakingly uncovering what we already know.<br /><br />The ending is particularly lame. Julia is menaced purely by accident. Lisa has no reason to want to kill her - she just happens to be in the wrong place at the wrong time. When Tom turns up in the nick of time to save her, it is not even clear whether she was threatened at all. He then simply disposes of the cobra in the way any of the previous victims might have done.<br /><br />It is such an inconsequential little pipsqueak of a story that I found myself wondering how on earth it had been pitched to the studio heads. Then it occurred to me. Someone said: \"Those Val Lewton movies were very successful over at RKO, so why don\\'t we make one like that?\"<br /><br />Cult of the Cobra is clearly modelled on Cat People: mysterious, troubled, shape-shifting woman falls in love with the hero, is apparently frigid, kills people, arouses the suspicions of the hero\\'s woman friend and dies at the end. But \\'modelled on\\' doesn\\'t mean \\'as good as\\' - by a wide margin. It copies, but doesn\\'t understand what it is copying.<br /><br />It is obviously trying for the low-key, suggestive Lewton style, but this approach doesn\\'t follow through into the story. Lisa is no Irene. She is meant to be strange and mysterious but there is no mystery about her. We get a glimpse of her after the first attack in Asia, so immediately recognise her when she turns up in New York. There is never any doubt about her purpose. Neither is there any ambiguity about whether of not she actually turns into a snake.<br /><br />Then again, during her nocturnal prowling we get, not one, but two attempts at \\'buses\\'. Neither come off, because the director doesn\\'t understand what makes a \\'bus\\' work and, in any case, they happen to the stalker, not the person being stalked.<br /><br />These faint echoes of Cat People give Cult of the Cobra whatever small distinction it might have, but they only draw attention to the yawning gulf between the original and the imitation.<br /><br />Plagiarism may be the sincerest form of flattery, but I doubt if Lewton or Tourneur were particularly flattered when this tepid little time-passer came out.'\n",
      " b'as an actor I really like independent films but this one is amateur at best.<br /><br />The boys go to Vermont for a civil service yet when the plane lands it flies over a palm tree - were the directors aware that palm trees are not in Vermont? Pines yes - palms no. And the same for the wedding service - again nice grove of palm trees.<br /><br />When the boys are leaving VT they apparently could not get a ticket on any major airline since the plane that is filmed is Federal Express. Did they ship themselves Overnight in a crate? Come on guys little details like this separate an indi film from totally amateur.<br /><br />The Christian brother is far gayer than Arthur with his bleached hair and tribal band tattoo. The two should have switched roles.<br /><br />The minor characters are laughable and overact something terrible.<br /><br />Applause to the directors for making a gay film but pay some attention to your locations and casting next time'\n",
      " b'\"Come Undone\" appears to elicit a lot of opinions among the contributors to this forum. Granted, it\\'s a film that promises a take on gay life, as most viewers expect and somehow, it gets away from that promise into an introspective view at a young man\\'s soul. The film has a way of staying with us even when it has ended. It is a character study about how a young man gets involved into a love affair with someone so much different than him that, in the end, will leave Mathieu confused, hurt and depressed when things don\\'t go according to what he hoped the relationship would be.<br /><br />If you haven\\'t seen the film, perhaps you would like to stop reading.<br /><br />Sebastien Lifshitz, the director of the film, has told his story from Mathieu\\'s viewpoint. Most viewers appear to be disoriented by the different times within the film, but there are hints that are not obvious, as one can see, in retrospect. The story is told in flashbacks that might add to the way some people will view the film. This is a story about the doomed the love Mathieu felt for Cedric and the ultimate breakdown of their life together.<br /><br />First of all, Cedric, the handsome young local, pursues Mathieu until he succeeds in convincing him he likes him. Mathieu feels the attraction for Cedric too. We realize how different both young men are by the way Cedric tells Mathieu\\'s family how he feels school is not for him. On the other hand, Mathieu, who wants to be an architect, finds beauty in the abandoned place where Cedric has taken him. We watch as Mathieu, reading from the guide book, wants Cedric\\'s attention.<br /><br />When Mathieu comes out to his mother, she wisely tells him about the importance of continuing his career. She also points out about what future both of them would have together, which proves to be true. Mathieu appears to have learned his lesson, the hard way. He goes on to an uncertain life with Cedric and attempts to take his own life. We watch him in the hospital speaking to a psychiatrist that has treated his wounded soul.<br /><br />The ending might be confusing for most viewers, but there is a moment in the film when Mathieu goes to work in a bar where we see him washing glasses and looking intently to Pierre, the young man who frequents the bar. That is why when Mathieu goes looking for Pierre at his house, appears to be hard to imagine. Yet, we have seen the way Mathieu is obviously interested in Pierre. The last scene at the beach, when Pierre and Mathieu are seen strolling in the sand, has a hopeful sign that things will be better between them as they watch a young boy, apparently lost, but then realizing the father is nearby.<br /><br />Jeremie Elkaim makes Mathieu one of the most complex characters in recent films. This is a young man who is hard to understand on a simple level. Mathieu has suffered a lot, first with the separation of his parents, then with his depressed mother and with losing Cedric. Stephan Rideau, who has been seen on other important French films, is equally good, as the shallow Cedric.<br /><br />While \"Come Undone\" will divide opinions, the film deserves a viewing because of the complexity and the care Sebastien Lifshitz gives to the story.']\n",
      "\n",
      "labels:  [0 0 1]\n"
     ]
    }
   ],
   "source": [
    "for example, label in train_dataset.take(1):\n",
    "  print('texts: ', example.numpy()[:3])\n",
    "  print()\n",
    "  print('labels: ', label.numpy()[:3])"
   ]
  },
  {
   "cell_type": "markdown",
   "metadata": {
    "id": "s5eWCo88voPY"
   },
   "source": [
    "## Create the text encoder"
   ]
  },
  {
   "cell_type": "markdown",
   "metadata": {
    "id": "TFevcItw15P_"
   },
   "source": [
    "The raw text loaded by `tfds` needs to be processed before it can be used in a model. The simplest way to process text for training is using the `experimental.preprocessing.TextVectorization` layer. This layer has many capabilities, but this tutorial sticks to the default behavior.\n",
    "\n",
    "Create the layer, and pass the dataset's text to the layer's `.adapt` method:"
   ]
  },
  {
   "cell_type": "code",
   "execution_count": 10,
   "metadata": {
    "execution": {
     "iopub.execute_input": "2021-01-13T03:51:17.888778Z",
     "iopub.status.busy": "2021-01-13T03:51:17.888113Z",
     "iopub.status.idle": "2021-01-13T03:51:21.858729Z",
     "shell.execute_reply": "2021-01-13T03:51:21.858056Z"
    },
    "id": "uC25Lu1Yvuqy"
   },
   "outputs": [],
   "source": [
    "VOCAB_SIZE=1000\n",
    "encoder = tf.keras.layers.experimental.preprocessing.TextVectorization(\n",
    "    max_tokens=VOCAB_SIZE)\n",
    "encoder.adapt(train_dataset.map(lambda text, label: text))"
   ]
  },
  {
   "cell_type": "markdown",
   "metadata": {
    "id": "IuQzVBbe3Ldu"
   },
   "source": [
    "The `.adapt` method sets the layer's vocabulary. Here are the first 20 tokens. After the padding and unknown tokens they're sorted by frequency: "
   ]
  },
  {
   "cell_type": "code",
   "execution_count": 11,
   "metadata": {
    "execution": {
     "iopub.execute_input": "2021-01-13T03:51:21.863814Z",
     "iopub.status.busy": "2021-01-13T03:51:21.863094Z",
     "iopub.status.idle": "2021-01-13T03:51:21.867751Z",
     "shell.execute_reply": "2021-01-13T03:51:21.868242Z"
    },
    "id": "tBoyjjWg0Ac9"
   },
   "outputs": [
    {
     "data": {
      "text/plain": [
       "array(['', '[UNK]', 'the', 'and', 'a', 'of', 'to', 'is', 'in', 'it', 'i',\n",
       "       'this', 'that', 'br', 'was', 'as', 'for', 'with', 'movie', 'but'],\n",
       "      dtype='<U14')"
      ]
     },
     "execution_count": 1,
     "metadata": {},
     "output_type": "execute_result"
    }
   ],
   "source": [
    "vocab = np.array(encoder.get_vocabulary())\n",
    "vocab[:20]"
   ]
  },
  {
   "cell_type": "markdown",
   "metadata": {
    "id": "mjId5pua3jHQ"
   },
   "source": [
    "Once the vocabulary is set, the layer can encode text into indices. The tensors of indices are 0-padded to the longest sequence in the batch (unless you set a fixed `output_sequence_length`):"
   ]
  },
  {
   "cell_type": "code",
   "execution_count": 12,
   "metadata": {
    "execution": {
     "iopub.execute_input": "2021-01-13T03:51:21.872767Z",
     "iopub.status.busy": "2021-01-13T03:51:21.872078Z",
     "iopub.status.idle": "2021-01-13T03:51:21.886442Z",
     "shell.execute_reply": "2021-01-13T03:51:21.886876Z"
    },
    "id": "RGc7C9WiwRWs"
   },
   "outputs": [
    {
     "data": {
      "text/plain": [
       "array([[  1,   5,   2, ...,   1, 366,  46],\n",
       "       [ 15,  34, 288, ...,   0,   0,   0],\n",
       "       [209,   1, 717, ...,   0,   0,   0]])"
      ]
     },
     "execution_count": 1,
     "metadata": {},
     "output_type": "execute_result"
    }
   ],
   "source": [
    "encoded_example = encoder(example)[:3].numpy()\n",
    "encoded_example"
   ]
  },
  {
   "cell_type": "markdown",
   "metadata": {
    "id": "F5cjz0bS39IN"
   },
   "source": [
    "With the default settings, the process is not completely reversible. There are three main reasons for that:\n",
    "\n",
    "1. The default value for `preprocessing.TextVectorization`'s `standardize` argument is `\"lower_and_strip_punctuation\"`.\n",
    "2. The limited vocabulary size and lack of character-based fallback results in some unknown tokens."
   ]
  },
  {
   "cell_type": "code",
   "execution_count": 13,
   "metadata": {
    "execution": {
     "iopub.execute_input": "2021-01-13T03:51:21.891588Z",
     "iopub.status.busy": "2021-01-13T03:51:21.890914Z",
     "iopub.status.idle": "2021-01-13T03:51:21.896502Z",
     "shell.execute_reply": "2021-01-13T03:51:21.896949Z"
    },
    "id": "N_tD0QY5wXaK"
   },
   "outputs": [
    {
     "name": "stdout",
     "output_type": "stream",
     "text": [
      "Original:  b'Cult of the Cobra is now available on DVD in a pristine print that does full justice to whatever merits it has as a movie. Unfortunately, that is not saying much.<br /><br />It has a competent cast of second-rankers that acquit themselves as well as could be expected under the circumstances. It is efficiently directed, entirely on sound stages and standing sets on the studio backlot. It looks OK, but is ponderously over-plotted and at a scant 80 minutes it is still heavily padded.<br /><br />For example, the double cobra attack on the first of the GIs was surely one attack too many.<br /><br />The business about Julia choosing to marry Pete rather than Tom never amounts to anything. Tom immediately falls in love with Lisa and she never has any reason to be jealous of Julia (nor is she).<br /><br />Julia\\'s \\'feminine intuition\\' is introduced as if it is going to lead to an important plot development, but it doesn\\'t. Similarly, Pete\\'s investigation into cobra cults and the suspicion that briefly falls on Tom serve no purpose other than to fill up screen time.<br /><br />These are just symptoms of the underlying problem. The movie is structured like a mystery but it isn\\'t. As soon as the curse is pronounced we know exactly where the story is heading, so the characters are left painstakingly uncovering what we already know.<br /><br />The ending is particularly lame. Julia is menaced purely by accident. Lisa has no reason to want to kill her - she just happens to be in the wrong place at the wrong time. When Tom turns up in the nick of time to save her, it is not even clear whether she was threatened at all. He then simply disposes of the cobra in the way any of the previous victims might have done.<br /><br />It is such an inconsequential little pipsqueak of a story that I found myself wondering how on earth it had been pitched to the studio heads. Then it occurred to me. Someone said: \"Those Val Lewton movies were very successful over at RKO, so why don\\'t we make one like that?\"<br /><br />Cult of the Cobra is clearly modelled on Cat People: mysterious, troubled, shape-shifting woman falls in love with the hero, is apparently frigid, kills people, arouses the suspicions of the hero\\'s woman friend and dies at the end. But \\'modelled on\\' doesn\\'t mean \\'as good as\\' - by a wide margin. It copies, but doesn\\'t understand what it is copying.<br /><br />It is obviously trying for the low-key, suggestive Lewton style, but this approach doesn\\'t follow through into the story. Lisa is no Irene. She is meant to be strange and mysterious but there is no mystery about her. We get a glimpse of her after the first attack in Asia, so immediately recognise her when she turns up in New York. There is never any doubt about her purpose. Neither is there any ambiguity about whether of not she actually turns into a snake.<br /><br />Then again, during her nocturnal prowling we get, not one, but two attempts at \\'buses\\'. Neither come off, because the director doesn\\'t understand what makes a \\'bus\\' work and, in any case, they happen to the stalker, not the person being stalked.<br /><br />These faint echoes of Cat People give Cult of the Cobra whatever small distinction it might have, but they only draw attention to the yawning gulf between the original and the imitation.<br /><br />Plagiarism may be the sincerest form of flattery, but I doubt if Lewton or Tourneur were particularly flattered when this tepid little time-passer came out.'\n",
      "Round-trip:  [UNK] of the [UNK] is now [UNK] on dvd in a [UNK] [UNK] that does full [UNK] to whatever [UNK] it has as a movie unfortunately that is not saying [UNK] br it has a [UNK] cast of [UNK] that [UNK] themselves as well as could be expected under the [UNK] it is [UNK] directed [UNK] on sound [UNK] and [UNK] sets on the [UNK] [UNK] it looks ok but is [UNK] [UNK] and at a [UNK] [UNK] minutes it is still [UNK] [UNK] br for example the [UNK] [UNK] [UNK] on the first of the [UNK] was [UNK] one [UNK] too [UNK] br the business about [UNK] [UNK] to [UNK] [UNK] rather than tom never [UNK] to anything tom [UNK] falls in love with [UNK] and she never has any reason to be [UNK] of [UNK] nor is [UNK] br [UNK] [UNK] [UNK] is [UNK] as if it is going to lead to an important plot development but it doesnt [UNK] [UNK] [UNK] into [UNK] [UNK] and the [UNK] that [UNK] falls on tom [UNK] no [UNK] other than to [UNK] up screen [UNK] br these are just [UNK] of the [UNK] problem the movie is [UNK] like a mystery but it isnt as soon as the [UNK] is [UNK] we know exactly where the story is [UNK] so the characters are left [UNK] [UNK] what we already [UNK] br the ending is particularly lame [UNK] is [UNK] [UNK] by [UNK] [UNK] has no reason to want to kill her she just happens to be in the wrong place at the wrong time when tom turns up in the [UNK] of time to save her it is not even clear whether she was [UNK] at all he then simply [UNK] of the [UNK] in the way any of the previous [UNK] might have [UNK] br it is such an [UNK] little [UNK] of a story that i found myself [UNK] how on earth it had been [UNK] to the [UNK] [UNK] then it [UNK] to me someone said those [UNK] [UNK] movies were very [UNK] over at [UNK] so why dont we make one like [UNK] br [UNK] of the [UNK] is clearly [UNK] on [UNK] people [UNK] [UNK] [UNK] woman falls in love with the hero is apparently [UNK] [UNK] people [UNK] the [UNK] of the [UNK] woman friend and [UNK] at the end but [UNK] on doesnt mean as good as by a [UNK] [UNK] it [UNK] but doesnt understand what it is [UNK] br it is obviously trying for the [UNK] [UNK] [UNK] style but this [UNK] doesnt follow through into the story [UNK] is no [UNK] she is meant to be strange and [UNK] but there is no mystery about her we get a [UNK] of her after the first [UNK] in [UNK] so [UNK] [UNK] her when she turns up in new york there is never any doubt about her [UNK] [UNK] is there any [UNK] about whether of not she actually turns into a [UNK] br then again during her [UNK] [UNK] we get not one but two attempts at [UNK] [UNK] come off because the director doesnt understand what makes a [UNK] work and in any case they happen to the [UNK] not the person being [UNK] br these [UNK] [UNK] of [UNK] people give [UNK] of the [UNK] whatever small [UNK] it might have but they only [UNK] attention to the [UNK] [UNK] between the original and the [UNK] br [UNK] may be the [UNK] form of [UNK] but i doubt if [UNK] or [UNK] were particularly [UNK] when this [UNK] little [UNK] came out\n",
      "\n",
      "Original:  b'as an actor I really like independent films but this one is amateur at best.<br /><br />The boys go to Vermont for a civil service yet when the plane lands it flies over a palm tree - were the directors aware that palm trees are not in Vermont? Pines yes - palms no. And the same for the wedding service - again nice grove of palm trees.<br /><br />When the boys are leaving VT they apparently could not get a ticket on any major airline since the plane that is filmed is Federal Express. Did they ship themselves Overnight in a crate? Come on guys little details like this separate an indi film from totally amateur.<br /><br />The Christian brother is far gayer than Arthur with his bleached hair and tribal band tattoo. The two should have switched roles.<br /><br />The minor characters are laughable and overact something terrible.<br /><br />Applause to the directors for making a gay film but pay some attention to your locations and casting next time'\n",
      "Round-trip:  as an actor i really like [UNK] films but this one is [UNK] at [UNK] br the boys go to [UNK] for a [UNK] [UNK] yet when the [UNK] [UNK] it [UNK] over a [UNK] [UNK] were the directors [UNK] that [UNK] [UNK] are not in [UNK] [UNK] yes [UNK] no and the same for the [UNK] [UNK] again nice [UNK] of [UNK] [UNK] br when the boys are [UNK] [UNK] they apparently could not get a [UNK] on any major [UNK] since the [UNK] that is filmed is [UNK] [UNK] did they [UNK] themselves [UNK] in a [UNK] come on guys little [UNK] like this [UNK] an [UNK] film from totally [UNK] br the [UNK] brother is far [UNK] than [UNK] with his [UNK] [UNK] and [UNK] [UNK] [UNK] the two should have [UNK] [UNK] br the [UNK] characters are [UNK] and [UNK] something [UNK] br [UNK] to the directors for making a [UNK] film but pay some attention to your [UNK] and casting next time                                                                                                                                                                                                                                                                                                                                                                                                                                                     \n",
      "\n",
      "Original:  b'\"Come Undone\" appears to elicit a lot of opinions among the contributors to this forum. Granted, it\\'s a film that promises a take on gay life, as most viewers expect and somehow, it gets away from that promise into an introspective view at a young man\\'s soul. The film has a way of staying with us even when it has ended. It is a character study about how a young man gets involved into a love affair with someone so much different than him that, in the end, will leave Mathieu confused, hurt and depressed when things don\\'t go according to what he hoped the relationship would be.<br /><br />If you haven\\'t seen the film, perhaps you would like to stop reading.<br /><br />Sebastien Lifshitz, the director of the film, has told his story from Mathieu\\'s viewpoint. Most viewers appear to be disoriented by the different times within the film, but there are hints that are not obvious, as one can see, in retrospect. The story is told in flashbacks that might add to the way some people will view the film. This is a story about the doomed the love Mathieu felt for Cedric and the ultimate breakdown of their life together.<br /><br />First of all, Cedric, the handsome young local, pursues Mathieu until he succeeds in convincing him he likes him. Mathieu feels the attraction for Cedric too. We realize how different both young men are by the way Cedric tells Mathieu\\'s family how he feels school is not for him. On the other hand, Mathieu, who wants to be an architect, finds beauty in the abandoned place where Cedric has taken him. We watch as Mathieu, reading from the guide book, wants Cedric\\'s attention.<br /><br />When Mathieu comes out to his mother, she wisely tells him about the importance of continuing his career. She also points out about what future both of them would have together, which proves to be true. Mathieu appears to have learned his lesson, the hard way. He goes on to an uncertain life with Cedric and attempts to take his own life. We watch him in the hospital speaking to a psychiatrist that has treated his wounded soul.<br /><br />The ending might be confusing for most viewers, but there is a moment in the film when Mathieu goes to work in a bar where we see him washing glasses and looking intently to Pierre, the young man who frequents the bar. That is why when Mathieu goes looking for Pierre at his house, appears to be hard to imagine. Yet, we have seen the way Mathieu is obviously interested in Pierre. The last scene at the beach, when Pierre and Mathieu are seen strolling in the sand, has a hopeful sign that things will be better between them as they watch a young boy, apparently lost, but then realizing the father is nearby.<br /><br />Jeremie Elkaim makes Mathieu one of the most complex characters in recent films. This is a young man who is hard to understand on a simple level. Mathieu has suffered a lot, first with the separation of his parents, then with his depressed mother and with losing Cedric. Stephan Rideau, who has been seen on other important French films, is equally good, as the shallow Cedric.<br /><br />While \"Come Undone\" will divide opinions, the film deserves a viewing because of the complexity and the care Sebastien Lifshitz gives to the story.'\n",
      "Round-trip:  come [UNK] appears to [UNK] a lot of [UNK] among the [UNK] to this [UNK] [UNK] its a film that [UNK] a take on [UNK] life as most viewers expect and somehow it gets away from that [UNK] into an [UNK] view at a young [UNK] [UNK] the film has a way of [UNK] with us even when it has [UNK] it is a character [UNK] about how a young man gets involved into a love [UNK] with someone so much different than him that in the end will leave [UNK] [UNK] [UNK] and [UNK] when things dont go [UNK] to what he [UNK] the relationship would [UNK] br if you havent seen the film perhaps you would like to stop [UNK] br [UNK] [UNK] the director of the film has told his story from [UNK] [UNK] most viewers appear to be [UNK] by the different times within the film but there are [UNK] that are not obvious as one can see in [UNK] the story is told in [UNK] that might add to the way some people will view the film this is a story about the [UNK] the love [UNK] felt for [UNK] and the [UNK] [UNK] of their life [UNK] br first of all [UNK] the [UNK] young local [UNK] [UNK] until he [UNK] in [UNK] him he [UNK] him [UNK] feels the [UNK] for [UNK] too we realize how different both young men are by the way [UNK] tells [UNK] family how he feels school is not for him on the other hand [UNK] who wants to be an [UNK] finds beauty in the [UNK] place where [UNK] has taken him we watch as [UNK] reading from the [UNK] book wants [UNK] [UNK] br when [UNK] comes out to his mother she [UNK] tells him about the [UNK] of [UNK] his career she also points out about what future both of them would have together which [UNK] to be true [UNK] appears to have [UNK] his [UNK] the hard way he goes on to an [UNK] life with [UNK] and attempts to take his own life we watch him in the [UNK] [UNK] to a [UNK] that has [UNK] his [UNK] [UNK] br the ending might be [UNK] for most viewers but there is a moment in the film when [UNK] goes to work in a [UNK] where we see him [UNK] [UNK] and looking [UNK] to [UNK] the young man who [UNK] the [UNK] that is why when [UNK] goes looking for [UNK] at his house appears to be hard to imagine yet we have seen the way [UNK] is obviously interested in [UNK] the last scene at the [UNK] when [UNK] and [UNK] are seen [UNK] in the [UNK] has a [UNK] [UNK] that things will be better between them as they watch a young boy apparently lost but then [UNK] the father is [UNK] br [UNK] [UNK] makes [UNK] one of the most [UNK] characters in [UNK] films this is a young man who is hard to understand on a simple level [UNK] has [UNK] a lot first with the [UNK] of his parents then with his [UNK] mother and with [UNK] [UNK] [UNK] [UNK] who has been seen on other important french films is [UNK] good as the [UNK] [UNK] br while come [UNK] will [UNK] [UNK] the film deserves a viewing because of the [UNK] and the care [UNK] [UNK] gives to the story                               \n",
      "\n"
     ]
    }
   ],
   "source": [
    "for n in range(3):\n",
    "  print(\"Original: \", example[n].numpy())\n",
    "  print(\"Round-trip: \", \" \".join(vocab[encoded_example[n]]))\n",
    "  print()"
   ]
  },
  {
   "cell_type": "markdown",
   "metadata": {
    "id": "bjUqGVBxGw-t"
   },
   "source": [
    "## Create the model"
   ]
  },
  {
   "cell_type": "markdown",
   "metadata": {
    "id": "W7zsmInBOCPO"
   },
   "source": [
    "![A drawing of the information flow in the model](images/bidirectional.png)"
   ]
  },
  {
   "cell_type": "markdown",
   "metadata": {
    "id": "bgs6nnSTGw-t"
   },
   "source": [
    "Above is a diagram of the model. \n",
    "\n",
    "1. This model can be build as a `tf.keras.Sequential`.\n",
    "\n",
    "1. The first layer is the `encoder`, which converts the text to a sequence of token indices.\n",
    "\n",
    "2. After the encoder is an embedding layer. An embedding layer stores one vector per word. When called, it converts the sequences of word indices to sequences of vectors. These vectors are trainable. After training (on enough data), words with similar meanings often have similar vectors.\n",
    "\n",
    "  This index-lookup is much more efficient than the equivalent operation of passing a one-hot encoded vector through a `tf.keras.layers.Dense` layer.\n",
    "\n",
    "3. A recurrent neural network (RNN) processes sequence input by iterating through the elements. RNNs pass the outputs from one timestep to their input on the next timestep.\n",
    "\n",
    "  The `tf.keras.layers.Bidirectional` wrapper can also be used with an RNN layer. This propagates the input forward and backwards through the RNN layer and then concatenates the final output. \n",
    "\n",
    "  * The main advantage to a bidirectional RNN is that the signal from the beginning of the input doesn't need to be processed all the way through every timestep to affect the output.  \n",
    "\n",
    "  * The main disadvantage of a bidirectional RNN is that you can't efficiently stream predictions as words are being added to the end.\n",
    "\n",
    "1. After the RNN has converted the sequence to a single vector the two `layers.Dense` do some final processing, and convert from this vector representation to a single logit as the classification output. \n"
   ]
  },
  {
   "cell_type": "markdown",
   "metadata": {
    "id": "V4fodCI7soQi"
   },
   "source": [
    "The code to implement this is below:"
   ]
  },
  {
   "cell_type": "code",
   "execution_count": 14,
   "metadata": {
    "execution": {
     "iopub.execute_input": "2021-01-13T03:51:21.903073Z",
     "iopub.status.busy": "2021-01-13T03:51:21.902355Z",
     "iopub.status.idle": "2021-01-13T03:51:21.943876Z",
     "shell.execute_reply": "2021-01-13T03:51:21.944395Z"
    },
    "id": "LwfoBkmRYcP3"
   },
   "outputs": [],
   "source": [
    "model = tf.keras.Sequential([\n",
    "    encoder,\n",
    "    tf.keras.layers.Embedding(\n",
    "        input_dim=len(encoder.get_vocabulary()),\n",
    "        output_dim=64,\n",
    "        # Use masking to handle the variable sequence lengths\n",
    "        mask_zero=True),\n",
    "    tf.keras.layers.Bidirectional(tf.keras.layers.LSTM(64)),\n",
    "    tf.keras.layers.Dense(64, activation='relu'),\n",
    "    tf.keras.layers.Dense(1)\n",
    "])"
   ]
  },
  {
   "cell_type": "markdown",
   "metadata": {
    "id": "QIGmIGkkouUb"
   },
   "source": [
    "Please note that Keras sequential model is used here since all the layers in the model only have single input and produce single output. In case you want to use stateful RNN layer, you might want to build your model with Keras functional API or model subclassing so that you can retrieve and reuse the RNN layer states. Please check [Keras RNN guide](https://www.tensorflow.org/guide/keras/rnn#rnn_state_reuse) for more details."
   ]
  },
  {
   "cell_type": "markdown",
   "metadata": {
    "id": "kF-PsCk1LwjY"
   },
   "source": [
    "The embedding layer [uses masking](../../guide/keras/masking_and_padding) to handle the varying sequence-lengths. All the layers after the `Embedding` support masking:"
   ]
  },
  {
   "cell_type": "code",
   "execution_count": 15,
   "metadata": {
    "execution": {
     "iopub.execute_input": "2021-01-13T03:51:21.949477Z",
     "iopub.status.busy": "2021-01-13T03:51:21.948721Z",
     "iopub.status.idle": "2021-01-13T03:51:21.951184Z",
     "shell.execute_reply": "2021-01-13T03:51:21.951673Z"
    },
    "id": "87a8-CwfKebw"
   },
   "outputs": [
    {
     "name": "stdout",
     "output_type": "stream",
     "text": [
      "[False, True, True, True, True]\n"
     ]
    }
   ],
   "source": [
    "print([layer.supports_masking for layer in model.layers])"
   ]
  },
  {
   "cell_type": "markdown",
   "metadata": {
    "id": "ZlS0iaUIWLpI"
   },
   "source": [
    "To confirm that this works as expected, evaluate a sentence twice. First, alone so there's no padding to mask:"
   ]
  },
  {
   "cell_type": "code",
   "execution_count": 16,
   "metadata": {
    "execution": {
     "iopub.execute_input": "2021-01-13T03:51:21.956961Z",
     "iopub.status.busy": "2021-01-13T03:51:21.956281Z",
     "iopub.status.idle": "2021-01-13T03:51:29.346939Z",
     "shell.execute_reply": "2021-01-13T03:51:29.346349Z"
    },
    "id": "O41gw3KfWHus"
   },
   "outputs": [
    {
     "name": "stdout",
     "output_type": "stream",
     "text": [
      "[-0.02237528]\n"
     ]
    }
   ],
   "source": [
    "# predict on a sample text without padding.\n",
    "\n",
    "sample_text = ('The movie was cool. The animation and the graphics '\n",
    "               'were out of this world. I would recommend this movie.')\n",
    "predictions = model.predict(np.array([sample_text]))\n",
    "print(predictions[0])"
   ]
  },
  {
   "cell_type": "markdown",
   "metadata": {
    "id": "K0VQmGnEWcuz"
   },
   "source": [
    "Now, evaluate it again in a batch with a longer sentence. The result should be identical:"
   ]
  },
  {
   "cell_type": "code",
   "execution_count": 17,
   "metadata": {
    "execution": {
     "iopub.execute_input": "2021-01-13T03:51:29.354862Z",
     "iopub.status.busy": "2021-01-13T03:51:29.354192Z",
     "iopub.status.idle": "2021-01-13T03:51:29.526982Z",
     "shell.execute_reply": "2021-01-13T03:51:29.526394Z"
    },
    "id": "UIgpuTeFNDzq"
   },
   "outputs": [
    {
     "name": "stdout",
     "output_type": "stream",
     "text": [
      "[-0.02237528]\n"
     ]
    }
   ],
   "source": [
    "# predict on a sample text with padding\n",
    "\n",
    "padding = \"the \" * 2000\n",
    "predictions = model.predict(np.array([sample_text, padding]))\n",
    "print(predictions[0])"
   ]
  },
  {
   "cell_type": "markdown",
   "metadata": {
    "id": "sRI776ZcH3Tf"
   },
   "source": [
    "Compile the Keras model to configure the training process:"
   ]
  },
  {
   "cell_type": "code",
   "execution_count": 18,
   "metadata": {
    "execution": {
     "iopub.execute_input": "2021-01-13T03:51:29.543266Z",
     "iopub.status.busy": "2021-01-13T03:51:29.542210Z",
     "iopub.status.idle": "2021-01-13T03:51:29.554230Z",
     "shell.execute_reply": "2021-01-13T03:51:29.554650Z"
    },
    "id": "kj2xei41YZjC"
   },
   "outputs": [],
   "source": [
    "model.compile(loss=tf.keras.losses.BinaryCrossentropy(from_logits=True),\n",
    "              optimizer=tf.keras.optimizers.Adam(1e-4),\n",
    "              metrics=['accuracy'])"
   ]
  },
  {
   "cell_type": "markdown",
   "metadata": {
    "id": "zIwH3nto596k"
   },
   "source": [
    "## Train the model"
   ]
  },
  {
   "cell_type": "code",
   "execution_count": 19,
   "metadata": {
    "execution": {
     "iopub.execute_input": "2021-01-13T03:51:29.560072Z",
     "iopub.status.busy": "2021-01-13T03:51:29.559021Z",
     "iopub.status.idle": "2021-01-13T03:57:17.837126Z",
     "shell.execute_reply": "2021-01-13T03:57:17.836600Z"
    },
    "id": "hw86wWS4YgR2"
   },
   "outputs": [
    {
     "name": "stdout",
     "output_type": "stream",
     "text": [
      "Epoch 1/10\n",
      "391/391 [==============================] - 44s 95ms/step - loss: 0.6858 - accuracy: 0.5052 - val_loss: 0.5634 - val_accuracy: 0.7193\n",
      "Epoch 2/10\n",
      "391/391 [==============================] - 34s 87ms/step - loss: 0.4815 - accuracy: 0.7763 - val_loss: 0.4102 - val_accuracy: 0.8328\n",
      "Epoch 3/10\n",
      "391/391 [==============================] - 34s 87ms/step - loss: 0.3718 - accuracy: 0.8415 - val_loss: 0.3441 - val_accuracy: 0.8542\n",
      "Epoch 4/10\n",
      "391/391 [==============================] - 34s 86ms/step - loss: 0.3363 - accuracy: 0.8604 - val_loss: 0.3365 - val_accuracy: 0.8594\n",
      "Epoch 5/10\n",
      "391/391 [==============================] - 34s 87ms/step - loss: 0.3221 - accuracy: 0.8638 - val_loss: 0.3395 - val_accuracy: 0.8583\n",
      "Epoch 6/10\n",
      "391/391 [==============================] - 34s 86ms/step - loss: 0.3133 - accuracy: 0.8692 - val_loss: 0.3307 - val_accuracy: 0.8583\n",
      "Epoch 7/10\n",
      "391/391 [==============================] - 34s 87ms/step - loss: 0.3106 - accuracy: 0.8687 - val_loss: 0.3240 - val_accuracy: 0.8599\n",
      "Epoch 8/10\n",
      "391/391 [==============================] - 34s 86ms/step - loss: 0.3014 - accuracy: 0.8759 - val_loss: 0.3178 - val_accuracy: 0.8630\n",
      "Epoch 9/10\n",
      "391/391 [==============================] - 33s 84ms/step - loss: 0.2971 - accuracy: 0.8747 - val_loss: 0.3278 - val_accuracy: 0.8562\n",
      "Epoch 10/10\n",
      "391/391 [==============================] - 33s 85ms/step - loss: 0.2982 - accuracy: 0.8731 - val_loss: 0.3194 - val_accuracy: 0.8656\n"
     ]
    }
   ],
   "source": [
    "history = model.fit(train_dataset, epochs=10,\n",
    "                    validation_data=test_dataset, \n",
    "                    validation_steps=30)"
   ]
  },
  {
   "cell_type": "code",
   "execution_count": 20,
   "metadata": {
    "execution": {
     "iopub.execute_input": "2021-01-13T03:57:17.842766Z",
     "iopub.status.busy": "2021-01-13T03:57:17.841687Z",
     "iopub.status.idle": "2021-01-13T03:57:34.265776Z",
     "shell.execute_reply": "2021-01-13T03:57:34.265216Z"
    },
    "id": "BaNbXi43YgUT"
   },
   "outputs": [
    {
     "name": "stdout",
     "output_type": "stream",
     "text": [
      "391/391 [==============================] - 16s 42ms/step - loss: 0.3157 - accuracy: 0.8639\n",
      "Test Loss: 0.315724641084671\n",
      "Test Accuracy: 0.8639199733734131\n"
     ]
    }
   ],
   "source": [
    "test_loss, test_acc = model.evaluate(test_dataset)\n",
    "\n",
    "print('Test Loss: {}'.format(test_loss))\n",
    "print('Test Accuracy: {}'.format(test_acc))"
   ]
  },
  {
   "cell_type": "code",
   "execution_count": 21,
   "metadata": {
    "execution": {
     "iopub.execute_input": "2021-01-13T03:57:34.284326Z",
     "iopub.status.busy": "2021-01-13T03:57:34.283544Z",
     "iopub.status.idle": "2021-01-13T03:57:34.574582Z",
     "shell.execute_reply": "2021-01-13T03:57:34.575021Z"
    },
    "id": "OZmwt_mzaQJk"
   },
   "outputs": [
    {
     "data": {
      "text/plain": [
       "(0.0, 0.6800670087337494)"
      ]
     },
     "execution_count": 1,
     "metadata": {},
     "output_type": "execute_result"
    },
    {
     "data": {
      "image/png": "[encoded data removed]",
      "text/plain": [
       "<Figure size 1152x576 with 2 Axes>"
      ]
     },
     "metadata": {
      "needs_background": "light"
     },
     "output_type": "display_data"
    }
   ],
   "source": [
    "plt.figure(figsize=(16,8))\n",
    "plt.subplot(1,2,1)\n",
    "plot_graphs(history, 'accuracy')\n",
    "plt.ylim(None,1)\n",
    "plt.subplot(1,2,2)\n",
    "plot_graphs(history, 'loss')\n",
    "plt.ylim(0,None)"
   ]
  },
  {
   "cell_type": "markdown",
   "metadata": {
    "id": "DwSE_386uhxD"
   },
   "source": [
    "Run a prediction on a new sentence:\n",
    "\n",
    "If the prediction is >= 0.0, it is positive else it is negative."
   ]
  },
  {
   "cell_type": "code",
   "execution_count": 22,
   "metadata": {
    "execution": {
     "iopub.execute_input": "2021-01-13T03:57:34.579884Z",
     "iopub.status.busy": "2021-01-13T03:57:34.579199Z",
     "iopub.status.idle": "2021-01-13T03:57:36.666160Z",
     "shell.execute_reply": "2021-01-13T03:57:36.665530Z"
    },
    "id": "ZXgfQSgRW6zU"
   },
   "outputs": [],
   "source": [
    "sample_text = ('The movie was cool. The animation and the graphics '\n",
    "               'were out of this world. I would recommend this movie.')\n",
    "predictions = model.predict(np.array([sample_text]))"
   ]
  },
  {
   "cell_type": "markdown",
   "metadata": {
    "id": "7g1evcaRpTKm"
   },
   "source": [
    "## Stack two or more LSTM layers\n",
    "\n",
    "Keras recurrent layers have two available modes that are controlled by the `return_sequences` constructor argument:\n",
    "\n",
    "* If `False` it returns only the last output for each input sequence (a 2D tensor of shape (batch_size, output_features)). This is the default, used in the previous model.\n",
    "\n",
    "* If `True` the full sequences of successive outputs for each timestep is returned (a 3D tensor of shape `(batch_size, timesteps, output_features)`).\n",
    "\n",
    "Here is what the flow of information looks like with `return_sequences=True`:\n",
    "\n",
    "![layered_bidirectional](images/layered_bidirectional.ipynb)"
   ]
  },
  {
   "cell_type": "markdown",
   "metadata": {
    "id": "wbSClCrG1z8l"
   },
   "source": [
    "The interesting thing about using an `RNN` with `return_sequences=True` is that the output still has 3-axes, like the input, so it can be passed to another RNN layer, like this:"
   ]
  },
  {
   "cell_type": "code",
   "execution_count": 23,
   "metadata": {
    "execution": {
     "iopub.execute_input": "2021-01-13T03:57:36.672733Z",
     "iopub.status.busy": "2021-01-13T03:57:36.672021Z",
     "iopub.status.idle": "2021-01-13T03:57:36.707640Z",
     "shell.execute_reply": "2021-01-13T03:57:36.707088Z"
    },
    "id": "jo1jjO3vn0jo"
   },
   "outputs": [],
   "source": [
    "model = tf.keras.Sequential([\n",
    "    encoder,\n",
    "    tf.keras.layers.Embedding(len(encoder.get_vocabulary()), 64, mask_zero=True),\n",
    "    tf.keras.layers.Bidirectional(tf.keras.layers.LSTM(64,  return_sequences=True)),\n",
    "    tf.keras.layers.Bidirectional(tf.keras.layers.LSTM(32)),\n",
    "    tf.keras.layers.Dense(64, activation='relu'),\n",
    "    tf.keras.layers.Dropout(0.5),\n",
    "    tf.keras.layers.Dense(1)\n",
    "])"
   ]
  },
  {
   "cell_type": "code",
   "execution_count": 24,
   "metadata": {
    "execution": {
     "iopub.execute_input": "2021-01-13T03:57:36.717621Z",
     "iopub.status.busy": "2021-01-13T03:57:36.716935Z",
     "iopub.status.idle": "2021-01-13T03:57:36.721546Z",
     "shell.execute_reply": "2021-01-13T03:57:36.720994Z"
    },
    "id": "hEPV5jVGp-is"
   },
   "outputs": [],
   "source": [
    "model.compile(loss=tf.keras.losses.BinaryCrossentropy(from_logits=True),\n",
    "              optimizer=tf.keras.optimizers.Adam(1e-4),\n",
    "              metrics=['accuracy'])"
   ]
  },
  {
   "cell_type": "code",
   "execution_count": 25,
   "metadata": {
    "execution": {
     "iopub.execute_input": "2021-01-13T03:57:36.725870Z",
     "iopub.status.busy": "2021-01-13T03:57:36.725238Z",
     "iopub.status.idle": "2021-01-13T04:07:45.899670Z",
     "shell.execute_reply": "2021-01-13T04:07:45.900224Z"
    },
    "id": "LeSE-YjdqAeN"
   },
   "outputs": [
    {
     "name": "stdout",
     "output_type": "stream",
     "text": [
      "Epoch 1/10\n",
      "391/391 [==============================] - 80s 164ms/step - loss: 0.6861 - accuracy: 0.5069 - val_loss: 0.4562 - val_accuracy: 0.7812\n",
      "Epoch 2/10\n",
      "391/391 [==============================] - 58s 149ms/step - loss: 0.4216 - accuracy: 0.8140 - val_loss: 0.3823 - val_accuracy: 0.8146\n",
      "Epoch 3/10\n",
      "391/391 [==============================] - 59s 150ms/step - loss: 0.3561 - accuracy: 0.8470 - val_loss: 0.3346 - val_accuracy: 0.8396\n",
      "Epoch 4/10\n",
      "391/391 [==============================] - 59s 150ms/step - loss: 0.3264 - accuracy: 0.8627 - val_loss: 0.3252 - val_accuracy: 0.8500\n",
      "Epoch 5/10\n",
      "391/391 [==============================] - 58s 149ms/step - loss: 0.3225 - accuracy: 0.8629 - val_loss: 0.3498 - val_accuracy: 0.8271\n",
      "Epoch 6/10\n",
      "391/391 [==============================] - 58s 149ms/step - loss: 0.3055 - accuracy: 0.8738 - val_loss: 0.3250 - val_accuracy: 0.8568\n",
      "Epoch 7/10\n",
      "391/391 [==============================] - 58s 149ms/step - loss: 0.3110 - accuracy: 0.8679 - val_loss: 0.3410 - val_accuracy: 0.8422\n",
      "Epoch 8/10\n",
      "391/391 [==============================] - 58s 149ms/step - loss: 0.2991 - accuracy: 0.8724 - val_loss: 0.3189 - val_accuracy: 0.8573\n",
      "Epoch 9/10\n",
      "391/391 [==============================] - 60s 154ms/step - loss: 0.2977 - accuracy: 0.8736 - val_loss: 0.3241 - val_accuracy: 0.8505\n",
      "Epoch 10/10\n",
      "391/391 [==============================] - 60s 153ms/step - loss: 0.2976 - accuracy: 0.8727 - val_loss: 0.3212 - val_accuracy: 0.8557\n"
     ]
    }
   ],
   "source": [
    "history = model.fit(train_dataset, epochs=10,\n",
    "                    validation_data=test_dataset,\n",
    "                    validation_steps=30)"
   ]
  },
  {
   "cell_type": "code",
   "execution_count": 26,
   "metadata": {
    "execution": {
     "iopub.execute_input": "2021-01-13T04:07:45.905760Z",
     "iopub.status.busy": "2021-01-13T04:07:45.904905Z",
     "iopub.status.idle": "2021-01-13T04:08:14.264905Z",
     "shell.execute_reply": "2021-01-13T04:08:14.265343Z"
    },
    "id": "_LdwilM1qPM3"
   },
   "outputs": [
    {
     "name": "stdout",
     "output_type": "stream",
     "text": [
      "391/391 [==============================] - 28s 72ms/step - loss: 0.3196 - accuracy: 0.8563\n",
      "Test Loss: 0.31963279843330383\n",
      "Test Accuracy: 0.8562800288200378\n"
     ]
    }
   ],
   "source": [
    "test_loss, test_acc = model.evaluate(test_dataset)\n",
    "\n",
    "print('Test Loss: {}'.format(test_loss))\n",
    "print('Test Accuracy: {}'.format(test_acc))"
   ]
  },
  {
   "cell_type": "code",
   "execution_count": 27,
   "metadata": {
    "execution": {
     "iopub.execute_input": "2021-01-13T04:08:14.270325Z",
     "iopub.status.busy": "2021-01-13T04:08:14.269625Z",
     "iopub.status.idle": "2021-01-13T04:08:18.631446Z",
     "shell.execute_reply": "2021-01-13T04:08:18.631878Z"
    },
    "id": "ykUKnAoqbycW"
   },
   "outputs": [
    {
     "name": "stdout",
     "output_type": "stream",
     "text": [
      "[[-1.7240916]]\n"
     ]
    }
   ],
   "source": [
    "# predict on a sample text without padding.\n",
    "\n",
    "sample_text = ('The movie was not good. The animation and the graphics '\n",
    "                    'were terrible. I would not recommend this movie.')\n",
    "predictions = model.predict(np.array([sample_text]))\n",
    "print(predictions)"
   ]
  },
  {
   "cell_type": "code",
   "execution_count": 28,
   "metadata": {
    "execution": {
     "iopub.execute_input": "2021-01-13T04:08:18.649033Z",
     "iopub.status.busy": "2021-01-13T04:08:18.637245Z",
     "iopub.status.idle": "2021-01-13T04:08:18.949985Z",
     "shell.execute_reply": "2021-01-13T04:08:18.950453Z"
    },
    "id": "_YYub0EDtwCu"
   },
   "outputs": [
    {
     "data": {
      "image/png": "[encoded data removed]",
      "text/plain": [
       "<Figure size 1152x432 with 2 Axes>"
      ]
     },
     "metadata": {
      "needs_background": "light"
     },
     "output_type": "display_data"
    }
   ],
   "source": [
    "plt.figure(figsize=(16,6))\n",
    "plt.subplot(1,2,1)\n",
    "plot_graphs(history, 'accuracy')\n",
    "plt.subplot(1,2,2)\n",
    "plot_graphs(history, 'loss')"
   ]
  },
  {
   "cell_type": "markdown",
   "metadata": {
    "id": "9xvpE3BaGw_V"
   },
   "source": [
    "Check out other existing recurrent layers such as [GRU layers](https://www.tensorflow.org/api_docs/python/tf/keras/layers/GRU).\n",
    "\n",
    "If you're interestied in building custom RNNs, see the [Keras RNN Guide](../../guide/keras/rnn.ipynb).\n"
   ]
  }
 ],
 "metadata": {
  "accelerator": "GPU",
  "colab": {
   "collapsed_sections": [],
   "name": "text_classification_rnn.ipynb",
   "toc_visible": true
  },
  "kernelspec": {
   "display_name": "Python 3",
   "language": "python",
   "name": "python3"
  },
  "language_info": {
   "codemirror_mode": {
    "name": "ipython",
    "version": 3
   },
   "file_extension": ".py",
   "mimetype": "text/x-python",
   "name": "python",
   "nbconvert_exporter": "python",
   "pygments_lexer": "ipython3",
   "version": "3.8.5"
  }
 },
 "nbformat": 4,
 "nbformat_minor": 1
}
