{
 "cells": [
  {
   "cell_type": "markdown",
   "metadata": {
    "_cell_guid": "79c7e3d0-c299-4dcb-8224-4455121ee9b0",
    "_uuid": "d629ff2d2480ee46fbb7e2d37f6b5fab8052498a",
    "collapsed": true
   },
   "source": [
    "# Import the necessary libraries"
   ]
  },
  {
   "cell_type": "code",
   "execution_count": 1,
   "metadata": {
    "_uuid": "d6fb32fd69316596e236eab5fb8cf77c848508c3"
   },
   "outputs": [],
   "source": [
    "import pandas as pd\n",
    "import numpy as np\n",
    "import matplotlib.pyplot as plt\n",
    "import seaborn as sns\n",
    "from sklearn.model_selection import train_test_split\n",
    "from sklearn.preprocessing import LabelEncoder\n",
    "from keras.models import Model\n",
    "from keras.layers import LSTM, Activation, Dense, Dropout, Input, Embedding\n",
    "from keras.optimizers import RMSprop\n",
    "from keras.preprocessing.text import Tokenizer\n",
    "from keras.preprocessing import sequence\n",
    "from keras.utils import to_categorical\n",
    "from keras.callbacks import EarlyStopping\n",
    "from keras.preprocessing.text import Tokenizer\n",
    "from keras.preprocessing.sequence import pad_sequences\n",
    "from keras.models import Sequential\n",
    "%matplotlib inline"
   ]
  },
  {
   "cell_type": "code",
   "execution_count": 2,
   "metadata": {},
   "outputs": [],
   "source": [
    "import os\n",
    "os.environ[\"TF_FORCE_GPU_ALLOW_GROWTH\"]=\"true\""
   ]
  },
  {
   "cell_type": "markdown",
   "metadata": {
    "_uuid": "f674695f1742479cefdeec0e81ab469f7b6ec90f"
   },
   "source": [
    "### Load the data into Pandas dataframe"
   ]
  },
  {
   "cell_type": "code",
   "execution_count": 3,
   "metadata": {
    "_uuid": "aca2f1d9da3f35d104763166fe4d25448410d8f2"
   },
   "outputs": [
    {
     "data": {
      "text/html": [
       "<div>\n",
       "<style scoped>\n",
       "    .dataframe tbody tr th:only-of-type {\n",
       "        vertical-align: middle;\n",
       "    }\n",
       "\n",
       "    .dataframe tbody tr th {\n",
       "        vertical-align: top;\n",
       "    }\n",
       "\n",
       "    .dataframe thead th {\n",
       "        text-align: right;\n",
       "    }\n",
       "</style>\n",
       "<table border=\"1\" class=\"dataframe\">\n",
       "  <thead>\n",
       "    <tr style=\"text-align: right;\">\n",
       "      <th></th>\n",
       "      <th>Unnamed: 0</th>\n",
       "      <th>text</th>\n",
       "      <th>annotation</th>\n",
       "      <th>target</th>\n",
       "    </tr>\n",
       "  </thead>\n",
       "  <tbody>\n",
       "    <tr>\n",
       "      <th>0</th>\n",
       "      <td>0</td>\n",
       "      <td>best way to build empathy is through honesty a...</td>\n",
       "      <td>0</td>\n",
       "      <td>irrelevant</td>\n",
       "    </tr>\n",
       "    <tr>\n",
       "      <th>1</th>\n",
       "      <td>1</td>\n",
       "      <td>cryptocurrency scams replacing ransomware as a...</td>\n",
       "      <td>0</td>\n",
       "      <td>irrelevant</td>\n",
       "    </tr>\n",
       "    <tr>\n",
       "      <th>2</th>\n",
       "      <td>2</td>\n",
       "      <td>cryptocurrency scams replacing ransomware as a...</td>\n",
       "      <td>0</td>\n",
       "      <td>irrelevant</td>\n",
       "    </tr>\n",
       "    <tr>\n",
       "      <th>3</th>\n",
       "      <td>3</td>\n",
       "      <td>protect  your customers  access prestashop ant...</td>\n",
       "      <td>1</td>\n",
       "      <td>relevant</td>\n",
       "    </tr>\n",
       "    <tr>\n",
       "      <th>4</th>\n",
       "      <td>4</td>\n",
       "      <td>data leak from huazhu hotels may affect 130 mi...</td>\n",
       "      <td>1</td>\n",
       "      <td>relevant</td>\n",
       "    </tr>\n",
       "  </tbody>\n",
       "</table>\n",
       "</div>"
      ],
      "text/plain": [
       "   Unnamed: 0                                               text  annotation  \\\n",
       "0           0  best way to build empathy is through honesty a...           0   \n",
       "1           1  cryptocurrency scams replacing ransomware as a...           0   \n",
       "2           2  cryptocurrency scams replacing ransomware as a...           0   \n",
       "3           3  protect  your customers  access prestashop ant...           1   \n",
       "4           4  data leak from huazhu hotels may affect 130 mi...           1   \n",
       "\n",
       "       target  \n",
       "0  irrelevant  \n",
       "1  irrelevant  \n",
       "2  irrelevant  \n",
       "3    relevant  \n",
       "4    relevant  "
      ]
     },
     "execution_count": 3,
     "metadata": {},
     "output_type": "execute_result"
    }
   ],
   "source": [
    "df = pd.read_csv('/home/adewopva/OneDrive/Independent_Study/Thesis/34kcsvanotated.csv',delimiter=',',encoding='latin-1')\n",
    "df.head()"
   ]
  },
  {
   "cell_type": "markdown",
   "metadata": {
    "_uuid": "53083ccecf39523cff290495a6cc768061ba9b46"
   },
   "source": [
    "Drop the columns that are not required for the neural network."
   ]
  },
  {
   "cell_type": "code",
   "execution_count": 4,
   "metadata": {
    "_uuid": "95a8b5d6f19cf42d4f55c6d2842faf1d0d55c1d0",
    "scrolled": true
   },
   "outputs": [
    {
     "name": "stdout",
     "output_type": "stream",
     "text": [
      "<class 'pandas.core.frame.DataFrame'>\n",
      "RangeIndex: 34193 entries, 0 to 34192\n",
      "Data columns (total 2 columns):\n",
      " #   Column      Non-Null Count  Dtype \n",
      "---  ------      --------------  ----- \n",
      " 0   text        33942 non-null  object\n",
      " 1   annotation  34193 non-null  int64 \n",
      "dtypes: int64(1), object(1)\n",
      "memory usage: 534.4+ KB\n"
     ]
    }
   ],
   "source": [
    "df.drop(['Unnamed: 0', 'target'],axis=1,inplace=True)\n",
    "df.info()"
   ]
  },
  {
   "cell_type": "code",
   "execution_count": 5,
   "metadata": {},
   "outputs": [],
   "source": [
    "df['text'] = df['text'].apply(str)"
   ]
  },
  {
   "cell_type": "markdown",
   "metadata": {
    "_uuid": "3c7060084470000f39a2dcc15b656586dcd6e9fd"
   },
   "source": [
    "Understand the distribution better."
   ]
  },
  {
   "cell_type": "code",
   "execution_count": 6,
   "metadata": {
    "_uuid": "a12002f521dd8eaeb0f69a932cbf23815ffd09d7"
   },
   "outputs": [
    {
     "name": "stderr",
     "output_type": "stream",
     "text": [
      "/home/adewopva/anaconda3/lib/python3.8/site-packages/seaborn/_decorators.py:36: FutureWarning: Pass the following variable as a keyword arg: x. From version 0.12, the only valid positional argument will be `data`, and passing other arguments without an explicit keyword will result in an error or misinterpretation.\n",
      "  warnings.warn(\n"
     ]
    },
    {
     "data": {
      "text/plain": [
       "Text(0.5, 1.0, 'Number of Relevant and Irrelevant')"
      ]
     },
     "execution_count": 6,
     "metadata": {},
     "output_type": "execute_result"
    },
    {
     "data": {
      "image/png": "[encoded data removed]",
      "text/plain": [
       "<Figure size 432x288 with 1 Axes>"
      ]
     },
     "metadata": {
      "needs_background": "light"
     },
     "output_type": "display_data"
    }
   ],
   "source": [
    "sns.countplot(df.annotation)\n",
    "plt.xlabel('annotation')\n",
    "plt.title('Number of Relevant and Irrelevant')"
   ]
  },
  {
   "cell_type": "markdown",
   "metadata": {
    "_uuid": "353a8191f86c3a22843a729b5d4a5acefbf94be8"
   },
   "source": [
    "* Create input and output vectors.\n",
    "* Process the labels."
   ]
  },
  {
   "cell_type": "code",
   "execution_count": 65,
   "metadata": {},
   "outputs": [
    {
     "name": "stdout",
     "output_type": "stream",
     "text": [
      "Found 61419 unique tokens.\n"
     ]
    }
   ],
   "source": [
    "# The maximum number of words to be used. (most frequent)\n",
    "MAX_NB_WORDS = 40000\n",
    "# Max number of words in each complaint.\n",
    "MAX_SEQUENCE_LENGTH = 150\n",
    "# This is fixed.\n",
    "EMBEDDING_DIM = 100\n",
    "\n",
    "tokenizer = Tokenizer(num_words=MAX_NB_WORDS, filters='!\"#$%&()*+,-./:;<=>?@[\\]^_`{|}~', lower=True)\n",
    "tokenizer.fit_on_texts(df['text'].values)\n",
    "word_index = tokenizer.word_index\n",
    "print('Found %s unique tokens.' % len(word_index))"
   ]
  },
  {
   "cell_type": "code",
   "execution_count": 66,
   "metadata": {},
   "outputs": [
    {
     "name": "stdout",
     "output_type": "stream",
     "text": [
      "Shape of data tensor: (34193, 150)\n"
     ]
    }
   ],
   "source": [
    "X = tokenizer.texts_to_sequences(df['text'].values)\n",
    "X = pad_sequences(X, maxlen=MAX_SEQUENCE_LENGTH)\n",
    "print('Shape of data tensor:', X.shape)"
   ]
  },
  {
   "cell_type": "code",
   "execution_count": 67,
   "metadata": {},
   "outputs": [
    {
     "name": "stdout",
     "output_type": "stream",
     "text": [
      "Shape of label tensor: (34193, 2)\n"
     ]
    }
   ],
   "source": [
    "Y = pd.get_dummies(df['annotation']).values\n",
    "print('Shape of label tensor:', Y.shape)"
   ]
  },
  {
   "cell_type": "code",
   "execution_count": 68,
   "metadata": {},
   "outputs": [
    {
     "name": "stdout",
     "output_type": "stream",
     "text": [
      "(27354, 150) (27354, 2)\n",
      "(6839, 150) (6839, 2)\n"
     ]
    }
   ],
   "source": [
    "X_train, X_test, Y_train, Y_test = train_test_split(X,Y, test_size = 0.20, random_state = 42)\n",
    "print(X_train.shape,Y_train.shape)\n",
    "print(X_test.shape,Y_test.shape)"
   ]
  },
  {
   "cell_type": "code",
   "execution_count": null,
   "metadata": {},
   "outputs": [],
   "source": []
  },
  {
   "cell_type": "markdown",
   "metadata": {
    "_uuid": "c5378d55c271e01480c1ac07f94ff99a80f900d6"
   },
   "source": [
    "### Process the data\n",
    "* Tokenize the data and convert the text to sequences.\n",
    "* Add padding to ensure that all the sequences have the same shape.\n",
    "* There are many ways of taking the *max_len* and here an arbitrary length of 150 is chosen."
   ]
  },
  {
   "cell_type": "markdown",
   "metadata": {
    "_uuid": "ad8706caa7a447fb49b44919fd109129e4082a93"
   },
   "source": [
    "### RNN\n",
    "Define the RNN structure."
   ]
  },
  {
   "cell_type": "code",
   "execution_count": 69,
   "metadata": {
    "_uuid": "78fff25b8be1de575bff071a2027f3dd2b11b911"
   },
   "outputs": [],
   "source": [
    "def RNN():\n",
    "    inputs = Input(name='inputs',shape=[MAX_SEQUENCE_LENGTH])\n",
    "    layer = Embedding(MAX_NB_WORDS,50,input_length=MAX_SEQUENCE_LENGTH)(inputs)\n",
    "    layer = LSTM(64)(layer)\n",
    "    layer = Dense(100,name='FC1')(layer)\n",
    "    layer = Activation('relu')(layer)\n",
    "    layer = Dropout(0.5)(layer)\n",
    "    layer = Dense(2,name='out_layer')(layer)\n",
    "    layer = Activation('softmax')(layer)\n",
    "    model = Model(inputs=inputs,outputs=layer)\n",
    "    return model"
   ]
  },
  {
   "cell_type": "markdown",
   "metadata": {
    "_uuid": "9d7c489e32bff6d12b8c08c07a91e9ba5d302e0e"
   },
   "source": [
    "Call the function and compile the model."
   ]
  },
  {
   "cell_type": "code",
   "execution_count": 70,
   "metadata": {
    "_uuid": "a0ede32d4127e8b4990fd74fe97fadef9e565d17"
   },
   "outputs": [
    {
     "name": "stdout",
     "output_type": "stream",
     "text": [
      "Model: \"model_3\"\n",
      "_________________________________________________________________\n",
      "Layer (type)                 Output Shape              Param #   \n",
      "=================================================================\n",
      "inputs (InputLayer)          [(None, 150)]             0         \n",
      "_________________________________________________________________\n",
      "embedding_3 (Embedding)      (None, 150, 50)           2000000   \n",
      "_________________________________________________________________\n",
      "lstm_3 (LSTM)                (None, 64)                29440     \n",
      "_________________________________________________________________\n",
      "FC1 (Dense)                  (None, 100)               6500      \n",
      "_________________________________________________________________\n",
      "activation_6 (Activation)    (None, 100)               0         \n",
      "_________________________________________________________________\n",
      "dropout_3 (Dropout)          (None, 100)               0         \n",
      "_________________________________________________________________\n",
      "out_layer (Dense)            (None, 2)                 202       \n",
      "_________________________________________________________________\n",
      "activation_7 (Activation)    (None, 2)                 0         \n",
      "=================================================================\n",
      "Total params: 2,036,142\n",
      "Trainable params: 2,036,142\n",
      "Non-trainable params: 0\n",
      "_________________________________________________________________\n"
     ]
    }
   ],
   "source": [
    "model = RNN()\n",
    "model.summary()\n",
    "#model.compile(loss='binary_crossentropy',optimizer=RMSprop(),metrics=['accuracy'])\n",
    "model.compile(optimizer='RMSProp', \n",
    "              loss='categorical_crossentropy', \n",
    "              metrics=['accuracy'])#,metrics.mae, metrics.categorical_accuracy, metrics.categorical_crossentropy,metrics.binary_crossentropy])\n"
   ]
  },
  {
   "cell_type": "markdown",
   "metadata": {
    "_uuid": "bc2e0a3ec50d14c790b82d66f9255456ec6a69da"
   },
   "source": [
    "Fit on the training data."
   ]
  },
  {
   "cell_type": "code",
   "execution_count": 71,
   "metadata": {
    "_uuid": "98f6d6318352420ea49c532cda158f715f940f4b"
   },
   "outputs": [
    {
     "name": "stdout",
     "output_type": "stream",
     "text": [
      "Epoch 1/60\n",
      "770/770 [==============================] - 9s 10ms/step - loss: 0.4389 - accuracy: 0.7756 - val_loss: 0.2901 - val_accuracy: 0.8618\n",
      "Epoch 2/60\n",
      "770/770 [==============================] - 8s 10ms/step - loss: 0.2845 - accuracy: 0.8681 - val_loss: 0.2815 - val_accuracy: 0.8670\n",
      "Epoch 3/60\n",
      "770/770 [==============================] - 8s 10ms/step - loss: 0.2615 - accuracy: 0.8897 - val_loss: 0.2782 - val_accuracy: 0.8662\n",
      "Epoch 4/60\n",
      "770/770 [==============================] - 8s 10ms/step - loss: 0.2483 - accuracy: 0.8958 - val_loss: 0.2977 - val_accuracy: 0.8582\n",
      "Epoch 5/60\n",
      "770/770 [==============================] - 7s 10ms/step - loss: 0.2222 - accuracy: 0.9065 - val_loss: 0.2866 - val_accuracy: 0.8677\n",
      "Epoch 6/60\n",
      "770/770 [==============================] - 8s 10ms/step - loss: 0.2052 - accuracy: 0.9218 - val_loss: 0.2812 - val_accuracy: 0.8706\n",
      "Epoch 7/60\n",
      "770/770 [==============================] - 8s 10ms/step - loss: 0.1910 - accuracy: 0.9268 - val_loss: 0.3068 - val_accuracy: 0.8692\n",
      "Epoch 8/60\n",
      "770/770 [==============================] - 7s 10ms/step - loss: 0.1780 - accuracy: 0.9305 - val_loss: 0.3085 - val_accuracy: 0.8659\n",
      "Epoch 9/60\n",
      "770/770 [==============================] - 7s 10ms/step - loss: 0.1694 - accuracy: 0.9372 - val_loss: 0.3357 - val_accuracy: 0.8549\n",
      "Epoch 10/60\n",
      "770/770 [==============================] - 7s 9ms/step - loss: 0.1513 - accuracy: 0.9410 - val_loss: 0.3183 - val_accuracy: 0.8564\n",
      "Epoch 11/60\n",
      "770/770 [==============================] - 7s 9ms/step - loss: 0.1446 - accuracy: 0.9463 - val_loss: 0.3328 - val_accuracy: 0.8586\n",
      "Epoch 12/60\n",
      "770/770 [==============================] - 7s 9ms/step - loss: 0.1354 - accuracy: 0.9496 - val_loss: 0.3250 - val_accuracy: 0.8604\n",
      "Epoch 13/60\n",
      "770/770 [==============================] - 7s 9ms/step - loss: 0.1290 - accuracy: 0.9510 - val_loss: 0.3728 - val_accuracy: 0.8560\n",
      "Epoch 14/60\n",
      "770/770 [==============================] - 7s 9ms/step - loss: 0.1276 - accuracy: 0.9521 - val_loss: 0.3592 - val_accuracy: 0.8651\n",
      "Epoch 15/60\n",
      "770/770 [==============================] - 7s 10ms/step - loss: 0.1308 - accuracy: 0.9520 - val_loss: 0.4191 - val_accuracy: 0.8571\n",
      "Epoch 16/60\n",
      "770/770 [==============================] - 8s 10ms/step - loss: 0.1281 - accuracy: 0.9503 - val_loss: 0.3793 - val_accuracy: 0.8648\n",
      "Epoch 17/60\n",
      "770/770 [==============================] - 8s 10ms/step - loss: 0.1181 - accuracy: 0.9555 - val_loss: 0.3823 - val_accuracy: 0.8626\n",
      "Epoch 18/60\n",
      "770/770 [==============================] - 7s 9ms/step - loss: 0.1197 - accuracy: 0.9562 - val_loss: 0.4808 - val_accuracy: 0.8487\n",
      "Epoch 19/60\n",
      "770/770 [==============================] - 7s 10ms/step - loss: 0.1141 - accuracy: 0.9593 - val_loss: 0.4339 - val_accuracy: 0.8315\n",
      "Epoch 20/60\n",
      "770/770 [==============================] - 7s 10ms/step - loss: 0.1158 - accuracy: 0.9574 - val_loss: 0.4145 - val_accuracy: 0.8586\n",
      "Epoch 21/60\n",
      "770/770 [==============================] - 7s 9ms/step - loss: 0.1155 - accuracy: 0.9571 - val_loss: 0.4855 - val_accuracy: 0.8403\n",
      "Epoch 22/60\n",
      "770/770 [==============================] - 7s 10ms/step - loss: 0.1063 - accuracy: 0.9599 - val_loss: 0.4097 - val_accuracy: 0.8531\n",
      "Epoch 23/60\n",
      "770/770 [==============================] - 8s 10ms/step - loss: 0.1079 - accuracy: 0.9593 - val_loss: 0.5026 - val_accuracy: 0.8586\n",
      "Epoch 24/60\n",
      "770/770 [==============================] - 7s 9ms/step - loss: 0.1102 - accuracy: 0.9575 - val_loss: 0.5757 - val_accuracy: 0.8553\n",
      "Epoch 25/60\n",
      "770/770 [==============================] - 7s 10ms/step - loss: 0.1059 - accuracy: 0.9607 - val_loss: 0.5556 - val_accuracy: 0.8417\n",
      "Epoch 26/60\n",
      "770/770 [==============================] - 7s 10ms/step - loss: 0.1050 - accuracy: 0.9595 - val_loss: 0.5232 - val_accuracy: 0.8447\n",
      "Epoch 27/60\n",
      "770/770 [==============================] - 7s 9ms/step - loss: 0.1031 - accuracy: 0.9597 - val_loss: 0.4406 - val_accuracy: 0.8578\n",
      "Epoch 28/60\n",
      "770/770 [==============================] - 8s 10ms/step - loss: 0.1004 - accuracy: 0.9602 - val_loss: 0.4604 - val_accuracy: 0.8469\n",
      "Epoch 29/60\n",
      "770/770 [==============================] - 8s 10ms/step - loss: 0.1091 - accuracy: 0.9588 - val_loss: 0.5316 - val_accuracy: 0.8344\n",
      "Epoch 30/60\n",
      "770/770 [==============================] - 7s 10ms/step - loss: 0.1162 - accuracy: 0.9567 - val_loss: 0.5749 - val_accuracy: 0.8337\n",
      "Epoch 31/60\n",
      "770/770 [==============================] - 7s 10ms/step - loss: 0.1160 - accuracy: 0.9580 - val_loss: 0.4673 - val_accuracy: 0.8472\n",
      "Epoch 32/60\n",
      "770/770 [==============================] - 7s 9ms/step - loss: 0.1067 - accuracy: 0.9591 - val_loss: 0.6338 - val_accuracy: 0.8494\n",
      "Epoch 33/60\n",
      "770/770 [==============================] - 8s 10ms/step - loss: 0.1096 - accuracy: 0.9595 - val_loss: 0.5625 - val_accuracy: 0.8428\n",
      "Epoch 34/60\n",
      "770/770 [==============================] - 9s 12ms/step - loss: 0.1059 - accuracy: 0.9603 - val_loss: 0.4837 - val_accuracy: 0.8428\n",
      "Epoch 35/60\n",
      "770/770 [==============================] - 12s 15ms/step - loss: 0.1031 - accuracy: 0.9591 - val_loss: 0.6052 - val_accuracy: 0.8516\n",
      "Epoch 36/60\n",
      "770/770 [==============================] - 13s 17ms/step - loss: 0.1108 - accuracy: 0.9579 - val_loss: 0.5696 - val_accuracy: 0.8450\n",
      "Epoch 37/60\n",
      "770/770 [==============================] - 12s 16ms/step - loss: 0.1009 - accuracy: 0.9608 - val_loss: 0.5895 - val_accuracy: 0.8337\n",
      "Epoch 38/60\n",
      "770/770 [==============================] - 12s 15ms/step - loss: 0.1025 - accuracy: 0.9608 - val_loss: 0.6188 - val_accuracy: 0.8399\n",
      "Epoch 39/60\n",
      "770/770 [==============================] - 12s 16ms/step - loss: 0.1004 - accuracy: 0.9605 - val_loss: 0.6307 - val_accuracy: 0.8399\n",
      "Epoch 40/60\n",
      "770/770 [==============================] - 12s 15ms/step - loss: 0.0952 - accuracy: 0.9638 - val_loss: 0.6873 - val_accuracy: 0.8406\n",
      "Epoch 41/60\n",
      "770/770 [==============================] - 12s 15ms/step - loss: 0.0946 - accuracy: 0.9606 - val_loss: 0.6517 - val_accuracy: 0.8279\n",
      "Epoch 42/60\n",
      "770/770 [==============================] - 12s 16ms/step - loss: 0.0941 - accuracy: 0.9615 - val_loss: 0.6305 - val_accuracy: 0.8381\n",
      "Epoch 43/60\n",
      "770/770 [==============================] - 12s 16ms/step - loss: 0.0951 - accuracy: 0.9614 - val_loss: 0.7141 - val_accuracy: 0.8330\n",
      "Epoch 44/60\n",
      "770/770 [==============================] - 12s 16ms/step - loss: 0.0914 - accuracy: 0.9635 - val_loss: 0.6719 - val_accuracy: 0.8385\n",
      "Epoch 45/60\n",
      "770/770 [==============================] - 12s 15ms/step - loss: 0.0955 - accuracy: 0.9619 - val_loss: 0.7278 - val_accuracy: 0.8425\n",
      "Epoch 46/60\n",
      "770/770 [==============================] - 12s 15ms/step - loss: 0.0983 - accuracy: 0.9603 - val_loss: 0.6776 - val_accuracy: 0.8447\n",
      "Epoch 47/60\n",
      "770/770 [==============================] - 12s 15ms/step - loss: 0.0945 - accuracy: 0.9620 - val_loss: 0.9294 - val_accuracy: 0.8308\n",
      "Epoch 48/60\n",
      "770/770 [==============================] - 12s 15ms/step - loss: 0.0906 - accuracy: 0.9612 - val_loss: 0.8399 - val_accuracy: 0.8425\n",
      "Epoch 49/60\n",
      "770/770 [==============================] - 12s 16ms/step - loss: 0.0911 - accuracy: 0.9612 - val_loss: 0.6978 - val_accuracy: 0.8410\n",
      "Epoch 50/60\n",
      "770/770 [==============================] - 12s 15ms/step - loss: 0.0972 - accuracy: 0.9607 - val_loss: 0.8115 - val_accuracy: 0.8337\n",
      "Epoch 51/60\n",
      "770/770 [==============================] - 13s 17ms/step - loss: 0.0909 - accuracy: 0.9619 - val_loss: 0.8846 - val_accuracy: 0.8465\n",
      "Epoch 52/60\n",
      "770/770 [==============================] - 13s 17ms/step - loss: 0.0928 - accuracy: 0.9617 - val_loss: 0.9005 - val_accuracy: 0.8341\n",
      "Epoch 53/60\n",
      "770/770 [==============================] - 14s 18ms/step - loss: 0.0959 - accuracy: 0.9625 - val_loss: 0.7634 - val_accuracy: 0.8381\n",
      "Epoch 54/60\n",
      "770/770 [==============================] - 12s 16ms/step - loss: 0.0893 - accuracy: 0.9635 - val_loss: 0.8590 - val_accuracy: 0.8333\n",
      "Epoch 55/60\n",
      "770/770 [==============================] - 13s 17ms/step - loss: 0.0901 - accuracy: 0.9623 - val_loss: 0.7941 - val_accuracy: 0.8388\n",
      "Epoch 56/60\n",
      "770/770 [==============================] - 13s 17ms/step - loss: 0.0896 - accuracy: 0.9627 - val_loss: 0.9460 - val_accuracy: 0.8235\n",
      "Epoch 57/60\n",
      "770/770 [==============================] - 13s 17ms/step - loss: 0.0931 - accuracy: 0.9631 - val_loss: 0.8237 - val_accuracy: 0.8377\n"
     ]
    },
    {
     "name": "stdout",
     "output_type": "stream",
     "text": [
      "Epoch 58/60\n",
      "770/770 [==============================] - 12s 16ms/step - loss: 0.0941 - accuracy: 0.9620 - val_loss: 0.8881 - val_accuracy: 0.8355\n",
      "Epoch 59/60\n",
      "770/770 [==============================] - 13s 17ms/step - loss: 0.0923 - accuracy: 0.9623 - val_loss: 0.8697 - val_accuracy: 0.8293\n",
      "Epoch 60/60\n",
      "770/770 [==============================] - 13s 17ms/step - loss: 0.0928 - accuracy: 0.9601 - val_loss: 0.9069 - val_accuracy: 0.8399\n"
     ]
    }
   ],
   "source": [
    "# history=model.fit(X_train, Y_train,batch_size=64,epochs=10,\n",
    "#           validation_split=0.1,callbacks=[EarlyStopping(monitor='val_loss',min_delta=0.0001)])\n",
    "\n",
    "batchSize = 32# int(X_train.shape[0]/50)\n",
    "epochs_num =60\n",
    "# build the model\n",
    "history=model.fit(X_train, Y_train, epochs=epochs_num, batch_size=batchSize, validation_split=0.1)\n"
   ]
  },
  {
   "cell_type": "code",
   "execution_count": 72,
   "metadata": {},
   "outputs": [],
   "source": [
    "# Y_test=np.argmax(Y_test, axis=1)\n",
    "# X_test=np.argmax(X_test, axis=1)"
   ]
  },
  {
   "cell_type": "markdown",
   "metadata": {
    "_uuid": "448ab38c2f804e47df48eb45385393aaec168032"
   },
   "source": [
    "The model performs well on the validation set and this configuration is chosen as the final model."
   ]
  },
  {
   "cell_type": "markdown",
   "metadata": {
    "_uuid": "ccca7839445a7d663ee7bc425a16e247df3e0e5b"
   },
   "source": [
    "Process the test set data."
   ]
  },
  {
   "cell_type": "markdown",
   "metadata": {
    "_uuid": "0b60d7d2bcc0aabf77c8c8766c59f8d73cd34547"
   },
   "source": [
    "Evaluate the model on the test set."
   ]
  },
  {
   "cell_type": "code",
   "execution_count": 73,
   "metadata": {},
   "outputs": [
    {
     "data": {
      "text/plain": [
       "(6839, 2)"
      ]
     },
     "execution_count": 73,
     "metadata": {},
     "output_type": "execute_result"
    }
   ],
   "source": [
    "Y_test.shape"
   ]
  },
  {
   "cell_type": "code",
   "execution_count": 74,
   "metadata": {},
   "outputs": [
    {
     "name": "stdout",
     "output_type": "stream",
     "text": [
      "Accuracy on training data: 0.9529501795768738% \n",
      " Error on training data: 0.04704982042312622\n"
     ]
    }
   ],
   "source": [
    "pred_train= model.predict(X_train)\n",
    "scores = model.evaluate(X_train, Y_train, verbose=0)\n",
    "print('Accuracy on training data: {}% \\n Error on training data: {}'.format(scores[1], 1 - scores[1]))   \n",
    " "
   ]
  },
  {
   "cell_type": "code",
   "execution_count": 75,
   "metadata": {},
   "outputs": [
    {
     "name": "stdout",
     "output_type": "stream",
     "text": [
      "Accuracy on test data: 0.8454452157020569% \n",
      " Error on test data: 0.15455478429794312\n"
     ]
    }
   ],
   "source": [
    "pred_test= model.predict(X_test)\n",
    "y_pred = pred_test.round()\n",
    "scores2 = model.evaluate(X_test, Y_test, verbose=0)\n",
    "print('Accuracy on test data: {}% \\n Error on test data: {}'.format(scores2[1], 1 - scores2[1]))   "
   ]
  },
  {
   "cell_type": "code",
   "execution_count": 76,
   "metadata": {},
   "outputs": [
    {
     "data": {
      "image/png": "[encoded data removed]",
      "text/plain": [
       "<Figure size 432x288 with 1 Axes>"
      ]
     },
     "metadata": {},
     "output_type": "display_data"
    },
    {
     "data": {
      "image/png": "[encoded data removed]",
      "text/plain": [
       "<Figure size 432x288 with 1 Axes>"
      ]
     },
     "metadata": {},
     "output_type": "display_data"
    },
    {
     "data": {
      "image/png": "[encoded data removed]",
      "text/plain": [
       "<Figure size 432x288 with 1 Axes>"
      ]
     },
     "metadata": {},
     "output_type": "display_data"
    }
   ],
   "source": [
    "#Importing packages\n",
    "%matplotlib inline \n",
    "import matplotlib.pyplot as plt\n",
    "import pandas as pd\n",
    "import numpy as np\n",
    "np.random.seed(0)\n",
    "plt.style.use(\"ggplot\")\n",
    "\n",
    "import tensorflow as tf\n",
    "#epochs_num=42\n",
    "plt.plot(history.history['loss'])\n",
    "plt.xlabel('epoch', fontsize=16)\n",
    "#  plt.set_xlim(bottom=0)\n",
    "# plt.xlim(left=0)#, right)\n",
    "plt.ylabel('loss',fontsize=16)\n",
    "#plt.savefig(\"./train_loss.jpg\")\n",
    "plt.show()\n",
    "    \n",
    "plt.plot(history.history['loss'])\n",
    "plt.plot(history.history['val_loss'])\n",
    "plt.legend(['train', 'validation'], loc='upper right', fontsize ='large')\n",
    "plt.ylabel('loss',fontsize=16)\n",
    "plt.xlabel('epoch',fontsize=16)\n",
    "plt.yticks(np.arange(0, 1.0, step=0.1))\n",
    "plt.xticks(np.arange(0, epochs_num+10, step=10))\n",
    "#plt.savefig(\"./all_loss.jpg\")\n",
    "plt.show()\n",
    "    \n",
    "plt.plot(history.history['accuracy'])\n",
    "plt.plot(history.history['val_accuracy'])\n",
    "plt.xlabel('epoch',fontsize=16)\n",
    "plt.ylabel('accuracy',fontsize=16)\n",
    "plt.yticks(np.arange(0, 1.0, step=0.1))\n",
    "plt.xticks(np.arange(0, epochs_num+10, step=10))\n",
    "plt.legend(['train', 'validation'], loc='lower right', fontsize ='large')\n",
    "#plt.savefig(\"./_accuracy.jpg\")\n",
    "plt.show()\n"
   ]
  },
  {
   "cell_type": "code",
   "execution_count": 77,
   "metadata": {},
   "outputs": [
    {
     "data": {
      "image/png": "[encoded data removed]",
      "text/plain": [
       "<Figure size 432x288 with 1 Axes>"
      ]
     },
     "metadata": {},
     "output_type": "display_data"
    },
    {
     "data": {
      "image/png": "[encoded data removed]",
      "text/plain": [
       "<Figure size 432x288 with 1 Axes>"
      ]
     },
     "metadata": {},
     "output_type": "display_data"
    }
   ],
   "source": [
    "plt.title('Accuracy')\n",
    "plt.plot(history.history['accuracy'], label='train')\n",
    "plt.plot(history.history['val_accuracy'], label='test')\n",
    "plt.legend()\n",
    "plt.show();\n",
    "\n",
    "plt.title('Loss')\n",
    "plt.plot(history.history['loss'], label='train')\n",
    "plt.plot(history.history['val_loss'], label='test')\n",
    "plt.legend()\n",
    "plt.show();"
   ]
  },
  {
   "cell_type": "code",
   "execution_count": 78,
   "metadata": {},
   "outputs": [],
   "source": [
    "# import itertools\n",
    "# #Function for Confusion Matrix\n",
    "# def plot_confusion_matrix(cm, classes,\n",
    "#                           normalize=False,\n",
    "#                           title='Confusion matrix',\n",
    "#                           cmap=plt.cm.Blues):\n",
    "#     \"\"\"\n",
    "#     This function prints and plots the confusion matrix.\n",
    "#     Normalization can be applied by setting `normalize=True`.\n",
    "#     \"\"\"\n",
    "#     plt.imshow(cm, interpolation='nearest', cmap=cmap)\n",
    "#     plt.title(title)\n",
    "#     plt.colorbar()\n",
    "#     tick_marks = np.arange(len(classes))\n",
    "#     plt.xticks(tick_marks, classes, rotation=45)\n",
    "#     plt.yticks(tick_marks, classes)\n",
    "\n",
    "#     if normalize:\n",
    "#         cm = cm.astype('float') / cm.sum(axis=1)[:, np.newaxis]\n",
    "#         print(\"Normalized confusion matrix\")\n",
    "#     else:\n",
    "#         print('Confusion matrix, without normalization')\n",
    "\n",
    "#     print(cm)\n",
    "\n",
    "#     thresh = cm.max() / 2.\n",
    "#     for i, j in itertools.product(range(cm.shape[0]), range(cm.shape[1])):\n",
    "#         plt.text(j, i, cm[i, j],\n",
    "#                  horizontalalignment=\"center\",\n",
    "#                  color=\"white\" if cm[i, j] > thresh else \"black\")\n",
    "\n",
    "#     plt.tight_layout()\n",
    "#     plt.ylabel('True label')\n",
    "#     plt.xlabel('Predicted label')\n",
    "# #_______________________________________________________________________________\n",
    "# y_pred=model.predict(X_test)\n",
    "# y_pred=(y_pred.argmax(1))\n",
    "\n",
    "# cnf_matrix =metrics.confusion_matrix(Y_test, y_pred)\n",
    "# np.set_printoptions(precision=2)\n",
    "\n",
    "# plt.figure()\n",
    "# plot_confusion_matrix(cnf_matrix, classes=['No-Threat','Threat'],\n",
    "#                       title='Confusion matrix, withnormalization')\n"
   ]
  },
  {
   "cell_type": "code",
   "execution_count": 79,
   "metadata": {},
   "outputs": [
    {
     "name": "stdout",
     "output_type": "stream",
     "text": [
      "\n",
      "Precision: 84.53268935516888%\n",
      "Recall: 84.54452405322415%\n",
      "f1_score: 84.53838007546507%\n",
      "\n",
      "Confusion Matrix:\n",
      "[[2092  534]\n",
      " [ 523 3690]]\n",
      "\n",
      "Confusion matrix (normalised to % of total test data):\n",
      "[[30.59  7.81]\n",
      " [ 7.65 53.96]]\n",
      "Note: training and testing data is not equally distributed amongst classes, \n",
      "so it is normal that more than a 6th of the data is correctly classified in the last category.\n"
     ]
    },
    {
     "data": {
      "image/png": "[encoded data removed]",
      "text/plain": [
       "<Figure size 576x576 with 2 Axes>"
      ]
     },
     "metadata": {},
     "output_type": "display_data"
    }
   ],
   "source": [
    "from sklearn import metrics\n",
    "y_pred=model.predict(X_test)\n",
    "y_pred=(y_pred.argmax(1)) \n",
    "Y_test=np.argmax(Y_test, axis=1)\n",
    "\n",
    "#y_pred should be a tensor. Convert to numpy and get max along classes\n",
    "#y_pred=np.multiply(y_pred, 1) \n",
    "#predictions = one_hot_predictions.argmax(1)\n",
    "\n",
    "#print(\"Testing Accuracy: {}%\".format(100*history.history['accuracy']))\n",
    "\n",
    "print(\"\")\n",
    "print(\"Precision: {}%\".format(100*metrics.precision_score(Y_test, y_pred, average=\"weighted\")))\n",
    "print(\"Recall: {}%\".format(100*metrics.recall_score(Y_test, y_pred, average=\"weighted\")))\n",
    "print(\"f1_score: {}%\".format(100*metrics.f1_score(Y_test, y_pred, average=\"weighted\")))\n",
    "\n",
    "print(\"\")\n",
    "print(\"Confusion Matrix:\")\n",
    "confusion_matrix = metrics.confusion_matrix(Y_test, y_pred)\n",
    "print(confusion_matrix)\n",
    "normalised_confusion_matrix = np.array(confusion_matrix, dtype=np.float32)/np.sum(confusion_matrix)*100\n",
    "\n",
    "print(\"\")\n",
    "print(\"Confusion matrix (normalised to % of total test data):\")\n",
    "print(normalised_confusion_matrix)\n",
    "print(\"Note: training and testing data is not equally distributed amongst classes, \")\n",
    "print(\"so it is normal that more than a 6th of the data is correctly classified in the last category.\")\n",
    "\n",
    "# Plot Results:\n",
    "width = 8\n",
    "height = 8\n",
    "plt.figure(figsize=(width, height))\n",
    "plt.imshow(\n",
    "    normalised_confusion_matrix,\n",
    "    interpolation='nearest',\n",
    "    cmap=plt.cm.rainbow\n",
    ")\n",
    "plt.title(\"Confusion matrix \\n(normalised to % of total test data)\")\n",
    "plt.colorbar()\n",
    "n_classes=2\n",
    "matrixLABELS = ['No-Threat','Threat']\n",
    "tick_marks = np.arange(n_classes)\n",
    "plt.xticks(tick_marks, matrixLABELS, rotation=90)\n",
    "plt.yticks(tick_marks, matrixLABELS)\n",
    "plt.tight_layout()\n",
    "plt.ylabel('True label')\n",
    "plt.xlabel('Predicted label')\n",
    "plt.show()"
   ]
  },
  {
   "cell_type": "code",
   "execution_count": 80,
   "metadata": {
    "scrolled": true
   },
   "outputs": [
    {
     "name": "stdout",
     "output_type": "stream",
     "text": [
      "Confusion matrix, without normalization\n",
      "[[2092  534]\n",
      " [ 523 3690]]\n"
     ]
    },
    {
     "data": {
      "image/png": "[encoded data removed]",
      "text/plain": [
       "<Figure size 432x288 with 2 Axes>"
      ]
     },
     "metadata": {},
     "output_type": "display_data"
    }
   ],
   "source": [
    "from sklearn.metrics import classification_report,confusion_matrix\n",
    "from sklearn import metrics\n",
    "import itertools\n",
    "#Function for Confusion Matrix\n",
    "def plot_confusion_matrix(cm, classes,\n",
    "                          normalize=False,\n",
    "                          title='Confusion matrix',\n",
    "                          cmap=plt.cm.Blues):\n",
    "    \"\"\"\n",
    "    This function prints and plots the confusion matrix.\n",
    "    Normalization can be applied by setting `normalize=True`.\n",
    "    \"\"\"\n",
    "    plt.imshow(cm, interpolation='nearest', cmap=cmap)\n",
    "    plt.title(title)\n",
    "    plt.colorbar()\n",
    "    tick_marks = np.arange(len(classes))\n",
    "    plt.xticks(tick_marks, classes, rotation=45)\n",
    "    plt.yticks(tick_marks, classes)\n",
    "\n",
    "    if normalize:\n",
    "        cm = cm.astype('float') / cm.sum(axis=1)[:, np.newaxis]\n",
    "        print(\"Normalized confusion matrix\")\n",
    "    else:\n",
    "        print('Confusion matrix, without normalization')\n",
    "\n",
    "    print(cm)\n",
    "\n",
    "    thresh = cm.max() / 2.\n",
    "    for i, j in itertools.product(range(cm.shape[0]), range(cm.shape[1])):\n",
    "        plt.text(j, i, cm[i, j],\n",
    "                 horizontalalignment=\"center\",\n",
    "                 color=\"white\" if cm[i, j] > thresh else \"black\")\n",
    "\n",
    "    plt.tight_layout()\n",
    "    plt.ylabel('True label')\n",
    "    plt.xlabel('Predicted label')\n",
    "#_______________________________________________________________________________\n",
    "y_pred=model.predict(X_test)\n",
    "y_pred=(y_pred.argmax(1))\n",
    "\n",
    "cnf_matrix =metrics.confusion_matrix(Y_test, y_pred)\n",
    "np.set_printoptions(precision=2)\n",
    "\n",
    "plt.figure()\n",
    "plot_confusion_matrix(cnf_matrix, classes=['No-Threat','Threat'],\n",
    "                      title='Confusion matrix, withnormalization')"
   ]
  },
  {
   "cell_type": "code",
   "execution_count": 211,
   "metadata": {},
   "outputs": [
    {
     "name": "stderr",
     "output_type": "stream",
     "text": [
      "/home/adewopva/anaconda3/lib/python3.8/site-packages/IPython/core/interactiveshell.py:3155: DtypeWarning: Columns (0,3,6,7) have mixed types.Specify dtype option on import or set low_memory=False.\n",
      "  has_raised = await self.run_ast_nodes(code_ast.body, cell_name,\n"
     ]
    }
   ],
   "source": [
    "df3=pd.read_csv(\"/home/adewopva/OneDrive/Independent_Study/Thesis/Colab Notebooks/tweetspredictbigdata.csv\", )\n",
    "df3=df3.drop_duplicates()\n"
   ]
  },
  {
   "cell_type": "code",
   "execution_count": 212,
   "metadata": {},
   "outputs": [
    {
     "data": {
      "text/html": [
       "<div>\n",
       "<style scoped>\n",
       "    .dataframe tbody tr th:only-of-type {\n",
       "        vertical-align: middle;\n",
       "    }\n",
       "\n",
       "    .dataframe tbody tr th {\n",
       "        vertical-align: top;\n",
       "    }\n",
       "\n",
       "    .dataframe thead th {\n",
       "        text-align: right;\n",
       "    }\n",
       "</style>\n",
       "<table border=\"1\" class=\"dataframe\">\n",
       "  <thead>\n",
       "    <tr style=\"text-align: right;\">\n",
       "      <th></th>\n",
       "      <th>Unnamed: 0</th>\n",
       "      <th>name</th>\n",
       "      <th>tweet</th>\n",
       "      <th>retweets</th>\n",
       "      <th>location</th>\n",
       "      <th>created</th>\n",
       "      <th>followers</th>\n",
       "      <th>is_user_verified</th>\n",
       "      <th>clean</th>\n",
       "    </tr>\n",
       "  </thead>\n",
       "  <tbody>\n",
       "    <tr>\n",
       "      <th>0</th>\n",
       "      <td>0</td>\n",
       "      <td>pilot_712</td>\n",
       "      <td>@avast_antivirus @WIRED Thanks, will you post ...</td>\n",
       "      <td>0</td>\n",
       "      <td>North East, England</td>\n",
       "      <td>02-Sep-2020</td>\n",
       "      <td>5</td>\n",
       "      <td>False</td>\n",
       "      <td>avast_antivirus  wired thanks  will you post ...</td>\n",
       "    </tr>\n",
       "    <tr>\n",
       "      <th>1</th>\n",
       "      <td>1</td>\n",
       "      <td>AwesomenessRM</td>\n",
       "      <td>@torproject @mullvadnet @avast_antivirus @Duck...</td>\n",
       "      <td>0</td>\n",
       "      <td>NaN</td>\n",
       "      <td>02-Sep-2020</td>\n",
       "      <td>1</td>\n",
       "      <td>False</td>\n",
       "      <td>torproject  mullvadnet  avast_antivirus  duck...</td>\n",
       "    </tr>\n",
       "    <tr>\n",
       "      <th>2</th>\n",
       "      <td>2</td>\n",
       "      <td>diamondonyx7</td>\n",
       "      <td>@avast_antivirus please I need you guys to che...</td>\n",
       "      <td>0</td>\n",
       "      <td>NaN</td>\n",
       "      <td>01-Sep-2020</td>\n",
       "      <td>13</td>\n",
       "      <td>False</td>\n",
       "      <td>avast_antivirus please i need you guys to che...</td>\n",
       "    </tr>\n",
       "    <tr>\n",
       "      <th>3</th>\n",
       "      <td>3</td>\n",
       "      <td>CppProgrammer23</td>\n",
       "      <td>@hankadusikova @gregcons @avast_antivirus @CCl...</td>\n",
       "      <td>0</td>\n",
       "      <td>Denver, CO</td>\n",
       "      <td>01-Sep-2020</td>\n",
       "      <td>8</td>\n",
       "      <td>False</td>\n",
       "      <td>hankadusikova  gregcons  avast_antivirus  ccl...</td>\n",
       "    </tr>\n",
       "    <tr>\n",
       "      <th>4</th>\n",
       "      <td>4</td>\n",
       "      <td>pilot_712</td>\n",
       "      <td>@avast_antivirus @WIRED Presumably @avast_anti...</td>\n",
       "      <td>0</td>\n",
       "      <td>North East, England</td>\n",
       "      <td>01-Sep-2020</td>\n",
       "      <td>5</td>\n",
       "      <td>False</td>\n",
       "      <td>avast_antivirus  wired presumably  avast_anti...</td>\n",
       "    </tr>\n",
       "    <tr>\n",
       "      <th>...</th>\n",
       "      <td>...</td>\n",
       "      <td>...</td>\n",
       "      <td>...</td>\n",
       "      <td>...</td>\n",
       "      <td>...</td>\n",
       "      <td>...</td>\n",
       "      <td>...</td>\n",
       "      <td>...</td>\n",
       "      <td>...</td>\n",
       "    </tr>\n",
       "    <tr>\n",
       "      <th>193714</th>\n",
       "      <td>167986</td>\n",
       "      <td>ANSSI_FR</td>\n",
       "      <td>The #Cyber Crisis Liaison Organisation Network...</td>\n",
       "      <td>4</td>\n",
       "      <td>Paris</td>\n",
       "      <td>29-Sep-2020</td>\n",
       "      <td>50045</td>\n",
       "      <td>True</td>\n",
       "      <td>the  cyber crisis liaison organisation network...</td>\n",
       "    </tr>\n",
       "    <tr>\n",
       "      <th>193715</th>\n",
       "      <td>167987</td>\n",
       "      <td>ANSSI_FR</td>\n",
       "      <td>#BlueOlex20 aims to test the #EU preparedness ...</td>\n",
       "      <td>0</td>\n",
       "      <td>Paris</td>\n",
       "      <td>29-Sep-2020</td>\n",
       "      <td>50045</td>\n",
       "      <td>True</td>\n",
       "      <td>blueolex20 aims to test the  eu preparedness ...</td>\n",
       "    </tr>\n",
       "    <tr>\n",
       "      <th>193716</th>\n",
       "      <td>167988</td>\n",
       "      <td>Cybersec_EU</td>\n",
       "      <td>Join today at 14h00 CET, #CNECTUniversity’s se...</td>\n",
       "      <td>11</td>\n",
       "      <td>Brussels</td>\n",
       "      <td>28-Sep-2020</td>\n",
       "      <td>15830</td>\n",
       "      <td>False</td>\n",
       "      <td>join today at 14h00 cet   cnectuniversity’s se...</td>\n",
       "    </tr>\n",
       "    <tr>\n",
       "      <th>193717</th>\n",
       "      <td>167989</td>\n",
       "      <td>SOMAObservatory</td>\n",
       "      <td>#TOMORROW our Project Coordinator @nikossarris...</td>\n",
       "      <td>3</td>\n",
       "      <td>Greece, Athens</td>\n",
       "      <td>28-Sep-2020</td>\n",
       "      <td>2061</td>\n",
       "      <td>True</td>\n",
       "      <td>tomorrow our project coordinator  nikossarris...</td>\n",
       "    </tr>\n",
       "    <tr>\n",
       "      <th>193718</th>\n",
       "      <td>167990</td>\n",
       "      <td>concordiah2020</td>\n",
       "      <td>Do not miss our new blog post in which we pres...</td>\n",
       "      <td>9</td>\n",
       "      <td>Europe</td>\n",
       "      <td>24-Sep-2020</td>\n",
       "      <td>1145</td>\n",
       "      <td>False</td>\n",
       "      <td>do not miss our new blog post in which we pres...</td>\n",
       "    </tr>\n",
       "  </tbody>\n",
       "</table>\n",
       "<p>167994 rows × 9 columns</p>\n",
       "</div>"
      ],
      "text/plain": [
       "       Unnamed: 0             name  \\\n",
       "0               0        pilot_712   \n",
       "1               1    AwesomenessRM   \n",
       "2               2     diamondonyx7   \n",
       "3               3  CppProgrammer23   \n",
       "4               4        pilot_712   \n",
       "...           ...              ...   \n",
       "193714     167986         ANSSI_FR   \n",
       "193715     167987         ANSSI_FR   \n",
       "193716     167988      Cybersec_EU   \n",
       "193717     167989  SOMAObservatory   \n",
       "193718     167990   concordiah2020   \n",
       "\n",
       "                                                    tweet retweets  \\\n",
       "0       @avast_antivirus @WIRED Thanks, will you post ...        0   \n",
       "1       @torproject @mullvadnet @avast_antivirus @Duck...        0   \n",
       "2       @avast_antivirus please I need you guys to che...        0   \n",
       "3       @hankadusikova @gregcons @avast_antivirus @CCl...        0   \n",
       "4       @avast_antivirus @WIRED Presumably @avast_anti...        0   \n",
       "...                                                   ...      ...   \n",
       "193714  The #Cyber Crisis Liaison Organisation Network...        4   \n",
       "193715  #BlueOlex20 aims to test the #EU preparedness ...        0   \n",
       "193716  Join today at 14h00 CET, #CNECTUniversity’s se...       11   \n",
       "193717  #TOMORROW our Project Coordinator @nikossarris...        3   \n",
       "193718  Do not miss our new blog post in which we pres...        9   \n",
       "\n",
       "                   location      created followers is_user_verified  \\\n",
       "0       North East, England  02-Sep-2020         5            False   \n",
       "1                       NaN  02-Sep-2020         1            False   \n",
       "2                       NaN  01-Sep-2020        13            False   \n",
       "3                Denver, CO  01-Sep-2020         8            False   \n",
       "4       North East, England  01-Sep-2020         5            False   \n",
       "...                     ...          ...       ...              ...   \n",
       "193714                Paris  29-Sep-2020     50045             True   \n",
       "193715                Paris  29-Sep-2020     50045             True   \n",
       "193716             Brussels  28-Sep-2020     15830            False   \n",
       "193717       Greece, Athens  28-Sep-2020      2061             True   \n",
       "193718               Europe  24-Sep-2020      1145            False   \n",
       "\n",
       "                                                    clean  \n",
       "0        avast_antivirus  wired thanks  will you post ...  \n",
       "1        torproject  mullvadnet  avast_antivirus  duck...  \n",
       "2        avast_antivirus please i need you guys to che...  \n",
       "3        hankadusikova  gregcons  avast_antivirus  ccl...  \n",
       "4        avast_antivirus  wired presumably  avast_anti...  \n",
       "...                                                   ...  \n",
       "193714  the  cyber crisis liaison organisation network...  \n",
       "193715   blueolex20 aims to test the  eu preparedness ...  \n",
       "193716  join today at 14h00 cet   cnectuniversity’s se...  \n",
       "193717   tomorrow our project coordinator  nikossarris...  \n",
       "193718  do not miss our new blog post in which we pres...  \n",
       "\n",
       "[167994 rows x 9 columns]"
      ]
     },
     "execution_count": 212,
     "metadata": {},
     "output_type": "execute_result"
    }
   ],
   "source": [
    "df3"
   ]
  },
  {
   "cell_type": "code",
   "execution_count": 199,
   "metadata": {},
   "outputs": [
    {
     "data": {
      "text/html": [
       "<div>\n",
       "<style scoped>\n",
       "    .dataframe tbody tr th:only-of-type {\n",
       "        vertical-align: middle;\n",
       "    }\n",
       "\n",
       "    .dataframe tbody tr th {\n",
       "        vertical-align: top;\n",
       "    }\n",
       "\n",
       "    .dataframe thead th {\n",
       "        text-align: right;\n",
       "    }\n",
       "</style>\n",
       "<table border=\"1\" class=\"dataframe\">\n",
       "  <thead>\n",
       "    <tr style=\"text-align: right;\">\n",
       "      <th></th>\n",
       "      <th>name</th>\n",
       "      <th>tweet</th>\n",
       "      <th>location</th>\n",
       "      <th>created</th>\n",
       "      <th>followers</th>\n",
       "      <th>verified</th>\n",
       "      <th>users</th>\n",
       "      <th>clean</th>\n",
       "    </tr>\n",
       "  </thead>\n",
       "  <tbody>\n",
       "    <tr>\n",
       "      <th>0</th>\n",
       "      <td>pilot_712</td>\n",
       "      <td>@avast_antivirus @WIRED Presumably @avast_anti...</td>\n",
       "      <td>0</td>\n",
       "      <td>North East, England</td>\n",
       "      <td>01-Sep-2020</td>\n",
       "      <td>5</td>\n",
       "      <td>False</td>\n",
       "      <td>avast_antivirus  wired presumably  avast_anti...</td>\n",
       "    </tr>\n",
       "    <tr>\n",
       "      <th>1</th>\n",
       "      <td>iamvishvadharam</td>\n",
       "      <td>@XiaomiIndia @avast_antivirus Hi Good Morning,...</td>\n",
       "      <td>0</td>\n",
       "      <td>New Delhi, India</td>\n",
       "      <td>01-Sep-2020</td>\n",
       "      <td>6</td>\n",
       "      <td>False</td>\n",
       "      <td>xiaomiindia  avast_antivirus hi good morning ...</td>\n",
       "    </tr>\n",
       "    <tr>\n",
       "      <th>2</th>\n",
       "      <td>GklatenH</td>\n",
       "      <td>@avast_antivirus Dear, Avast company, avast an...</td>\n",
       "      <td>0</td>\n",
       "      <td>Klaten Utara, Indonesia</td>\n",
       "      <td>01-Sep-2020</td>\n",
       "      <td>32</td>\n",
       "      <td>False</td>\n",
       "      <td>avast_antivirus dear  avast company  avast an...</td>\n",
       "    </tr>\n",
       "    <tr>\n",
       "      <th>3</th>\n",
       "      <td>nealfunw</td>\n",
       "      <td>Fun fact: https://t.co/WIKchzVw9p redirects to...</td>\n",
       "      <td>0</td>\n",
       "      <td>Klaten Utara, Indonesia</td>\n",
       "      <td>31-Aug-2020</td>\n",
       "      <td>9</td>\n",
       "      <td>False</td>\n",
       "      <td>fun fact  https   t co wikchzvw9p redirects to...</td>\n",
       "    </tr>\n",
       "    <tr>\n",
       "      <th>4</th>\n",
       "      <td>forzalez</td>\n",
       "      <td>• Ms Office 2019 pro plus (win 10) (windows &amp;a...</td>\n",
       "      <td>0</td>\n",
       "      <td>Klaten Utara, Indonesia</td>\n",
       "      <td>31-Aug-2020</td>\n",
       "      <td>1</td>\n",
       "      <td>False</td>\n",
       "      <td>• ms office 2019 pro plus  win 10   windows &amp;a...</td>\n",
       "    </tr>\n",
       "  </tbody>\n",
       "</table>\n",
       "</div>"
      ],
      "text/plain": [
       "              name                                              tweet  \\\n",
       "0        pilot_712  @avast_antivirus @WIRED Presumably @avast_anti...   \n",
       "1  iamvishvadharam  @XiaomiIndia @avast_antivirus Hi Good Morning,...   \n",
       "2         GklatenH  @avast_antivirus Dear, Avast company, avast an...   \n",
       "3         nealfunw  Fun fact: https://t.co/WIKchzVw9p redirects to...   \n",
       "4         forzalez  • Ms Office 2019 pro plus (win 10) (windows &a...   \n",
       "\n",
       "  location                  created    followers verified  users  \\\n",
       "0        0      North East, England  01-Sep-2020        5  False   \n",
       "1        0         New Delhi, India  01-Sep-2020        6  False   \n",
       "2        0  Klaten Utara, Indonesia  01-Sep-2020       32  False   \n",
       "3        0  Klaten Utara, Indonesia  31-Aug-2020        9  False   \n",
       "4        0  Klaten Utara, Indonesia  31-Aug-2020        1  False   \n",
       "\n",
       "                                               clean  \n",
       "0   avast_antivirus  wired presumably  avast_anti...  \n",
       "1   xiaomiindia  avast_antivirus hi good morning ...  \n",
       "2   avast_antivirus dear  avast company  avast an...  \n",
       "3  fun fact  https   t co wikchzvw9p redirects to...  \n",
       "4  • ms office 2019 pro plus  win 10   windows &a...  "
      ]
     },
     "execution_count": 199,
     "metadata": {},
     "output_type": "execute_result"
    }
   ],
   "source": [
    "import re\n",
    "from nltk.corpus import stopwords\n",
    "from nltk import word_tokenize\n",
    "STOPWORDS = set(stopwords.words('english'))\n",
    "                \n",
    "f=f.reset_index(drop=True)\n",
    "REPLACE_BY_SPACE_RE = re.compile('[/•(){}\\[\\]\\|@,;]')\n",
    "BAD_SYMBOLS_RE = re.compile('[•^0-9a-z #+_]')\n",
    "STOPWORDS = set(stopwords.words('english'))\n",
    "\n",
    "def clean_text(text):\n",
    "    \"\"\"\n",
    "        text: a string\n",
    "        \n",
    "        return: modified initial string\n",
    "    \"\"\"\n",
    "    text = text.lower() # lowercase text\n",
    "   # text=text.apply(lambda x: re.split('https:\\/\\/.*', str(x))[0])\n",
    "    text = REPLACE_BY_SPACE_RE.sub(' ', text) # replace REPLACE_BY_SPACE_RE symbols by space in text. substitute the matched string in REPLACE_BY_SPACE_RE with space.\n",
    "    text = BAD_SYMBOLS_RE.sub('', text) # remove symbols which are in BAD_SYMBOLS_RE from text. substitute the matched string in BAD_SYMBOLS_RE with nothing. \n",
    "    text = text.replace('x', '')\n",
    "#    text = re.sub(r'\\W+', '', text)\n",
    "    text = ' '.join(word for word in text.split() if word not in STOPWORDS) # remove stopwors from text\n",
    "    return text\n",
    "f['clean']=f['clean'].apply(str)\n",
    "f['clean'].apply(clean_text)\n",
    "f.head()"
   ]
  },
  {
   "cell_type": "code",
   "execution_count": 214,
   "metadata": {},
   "outputs": [
    {
     "data": {
      "text/html": [
       "<div>\n",
       "<style scoped>\n",
       "    .dataframe tbody tr th:only-of-type {\n",
       "        vertical-align: middle;\n",
       "    }\n",
       "\n",
       "    .dataframe tbody tr th {\n",
       "        vertical-align: top;\n",
       "    }\n",
       "\n",
       "    .dataframe thead th {\n",
       "        text-align: right;\n",
       "    }\n",
       "</style>\n",
       "<table border=\"1\" class=\"dataframe\">\n",
       "  <thead>\n",
       "    <tr style=\"text-align: right;\">\n",
       "      <th></th>\n",
       "      <th>location</th>\n",
       "      <th>created</th>\n",
       "      <th>followers</th>\n",
       "      <th>is_user_verified</th>\n",
       "      <th>clean</th>\n",
       "    </tr>\n",
       "  </thead>\n",
       "  <tbody>\n",
       "    <tr>\n",
       "      <th>0</th>\n",
       "      <td>North East, England</td>\n",
       "      <td>02-Sep-2020</td>\n",
       "      <td>5</td>\n",
       "      <td>False</td>\n",
       "      <td>avast_antivirus  wired thanks  will you post ...</td>\n",
       "    </tr>\n",
       "    <tr>\n",
       "      <th>1</th>\n",
       "      <td>NaN</td>\n",
       "      <td>02-Sep-2020</td>\n",
       "      <td>1</td>\n",
       "      <td>False</td>\n",
       "      <td>torproject  mullvadnet  avast_antivirus  duck...</td>\n",
       "    </tr>\n",
       "    <tr>\n",
       "      <th>2</th>\n",
       "      <td>NaN</td>\n",
       "      <td>01-Sep-2020</td>\n",
       "      <td>13</td>\n",
       "      <td>False</td>\n",
       "      <td>avast_antivirus please i need you guys to che...</td>\n",
       "    </tr>\n",
       "    <tr>\n",
       "      <th>3</th>\n",
       "      <td>Denver, CO</td>\n",
       "      <td>01-Sep-2020</td>\n",
       "      <td>8</td>\n",
       "      <td>False</td>\n",
       "      <td>hankadusikova  gregcons  avast_antivirus  ccl...</td>\n",
       "    </tr>\n",
       "    <tr>\n",
       "      <th>4</th>\n",
       "      <td>North East, England</td>\n",
       "      <td>01-Sep-2020</td>\n",
       "      <td>5</td>\n",
       "      <td>False</td>\n",
       "      <td>avast_antivirus  wired presumably  avast_anti...</td>\n",
       "    </tr>\n",
       "    <tr>\n",
       "      <th>...</th>\n",
       "      <td>...</td>\n",
       "      <td>...</td>\n",
       "      <td>...</td>\n",
       "      <td>...</td>\n",
       "      <td>...</td>\n",
       "    </tr>\n",
       "    <tr>\n",
       "      <th>193714</th>\n",
       "      <td>Paris</td>\n",
       "      <td>29-Sep-2020</td>\n",
       "      <td>50045</td>\n",
       "      <td>True</td>\n",
       "      <td>the  cyber crisis liaison organisation network...</td>\n",
       "    </tr>\n",
       "    <tr>\n",
       "      <th>193715</th>\n",
       "      <td>Paris</td>\n",
       "      <td>29-Sep-2020</td>\n",
       "      <td>50045</td>\n",
       "      <td>True</td>\n",
       "      <td>blueolex20 aims to test the  eu preparedness ...</td>\n",
       "    </tr>\n",
       "    <tr>\n",
       "      <th>193716</th>\n",
       "      <td>Brussels</td>\n",
       "      <td>28-Sep-2020</td>\n",
       "      <td>15830</td>\n",
       "      <td>False</td>\n",
       "      <td>join today at 14h00 cet   cnectuniversity’s se...</td>\n",
       "    </tr>\n",
       "    <tr>\n",
       "      <th>193717</th>\n",
       "      <td>Greece, Athens</td>\n",
       "      <td>28-Sep-2020</td>\n",
       "      <td>2061</td>\n",
       "      <td>True</td>\n",
       "      <td>tomorrow our project coordinator  nikossarris...</td>\n",
       "    </tr>\n",
       "    <tr>\n",
       "      <th>193718</th>\n",
       "      <td>Europe</td>\n",
       "      <td>24-Sep-2020</td>\n",
       "      <td>1145</td>\n",
       "      <td>False</td>\n",
       "      <td>do not miss our new blog post in which we pres...</td>\n",
       "    </tr>\n",
       "  </tbody>\n",
       "</table>\n",
       "<p>167994 rows × 5 columns</p>\n",
       "</div>"
      ],
      "text/plain": [
       "                   location      created followers is_user_verified  \\\n",
       "0       North East, England  02-Sep-2020         5            False   \n",
       "1                       NaN  02-Sep-2020         1            False   \n",
       "2                       NaN  01-Sep-2020        13            False   \n",
       "3                Denver, CO  01-Sep-2020         8            False   \n",
       "4       North East, England  01-Sep-2020         5            False   \n",
       "...                     ...          ...       ...              ...   \n",
       "193714                Paris  29-Sep-2020     50045             True   \n",
       "193715                Paris  29-Sep-2020     50045             True   \n",
       "193716             Brussels  28-Sep-2020     15830            False   \n",
       "193717       Greece, Athens  28-Sep-2020      2061             True   \n",
       "193718               Europe  24-Sep-2020      1145            False   \n",
       "\n",
       "                                                    clean  \n",
       "0        avast_antivirus  wired thanks  will you post ...  \n",
       "1        torproject  mullvadnet  avast_antivirus  duck...  \n",
       "2        avast_antivirus please i need you guys to che...  \n",
       "3        hankadusikova  gregcons  avast_antivirus  ccl...  \n",
       "4        avast_antivirus  wired presumably  avast_anti...  \n",
       "...                                                   ...  \n",
       "193714  the  cyber crisis liaison organisation network...  \n",
       "193715   blueolex20 aims to test the  eu preparedness ...  \n",
       "193716  join today at 14h00 cet   cnectuniversity’s se...  \n",
       "193717   tomorrow our project coordinator  nikossarris...  \n",
       "193718  do not miss our new blog post in which we pres...  \n",
       "\n",
       "[167994 rows x 5 columns]"
      ]
     },
     "execution_count": 214,
     "metadata": {},
     "output_type": "execute_result"
    }
   ],
   "source": [
    "df3.iloc[0:,4:]"
   ]
  },
  {
   "cell_type": "code",
   "execution_count": 222,
   "metadata": {},
   "outputs": [
    {
     "name": "stdout",
     "output_type": "stream",
     "text": [
      "Found 246100 unique tokens.\n",
      "Shape of data tensor: (167994, 150)\n"
     ]
    }
   ],
   "source": [
    "# The maximum number of words to be used. (most frequent)\n",
    "MAX_NB_WORDS = 40000\n",
    "# Max number of words in each complaint.\n",
    "MAX_SEQUENCE_LENGTH = 150\n",
    "# This is fixed.\n",
    "EMBEDDING_DIM = 100\n",
    "df3['clean']=df3['clean'].astype(str)\n",
    "tokenizer = Tokenizer(num_words=MAX_NB_WORDS, filters='!\"#$%&()*+,-./:;<=>?@[\\]^_`{|}~', lower=True)\n",
    "tokenizer.fit_on_texts(df3['clean'].values)\n",
    "word_index = tokenizer.word_index\n",
    "print('Found %s unique tokens.' % len(word_index))\n",
    "\n",
    "F= tokenizer.texts_to_sequences(df3['clean'].values)\n",
    "F = pad_sequences(F, maxlen=MAX_SEQUENCE_LENGTH)\n",
    "print('Shape of data tensor:', F.shape)"
   ]
  },
  {
   "cell_type": "code",
   "execution_count": 225,
   "metadata": {},
   "outputs": [
    {
     "data": {
      "text/html": [
       "<div>\n",
       "<style scoped>\n",
       "    .dataframe tbody tr th:only-of-type {\n",
       "        vertical-align: middle;\n",
       "    }\n",
       "\n",
       "    .dataframe tbody tr th {\n",
       "        vertical-align: top;\n",
       "    }\n",
       "\n",
       "    .dataframe thead th {\n",
       "        text-align: right;\n",
       "    }\n",
       "</style>\n",
       "<table border=\"1\" class=\"dataframe\">\n",
       "  <thead>\n",
       "    <tr style=\"text-align: right;\">\n",
       "      <th></th>\n",
       "      <th>Unnamed: 0</th>\n",
       "      <th>name</th>\n",
       "      <th>tweet</th>\n",
       "      <th>retweets</th>\n",
       "      <th>location</th>\n",
       "      <th>created</th>\n",
       "      <th>followers</th>\n",
       "      <th>is_user_verified</th>\n",
       "      <th>clean</th>\n",
       "      <th>pred_label</th>\n",
       "    </tr>\n",
       "  </thead>\n",
       "  <tbody>\n",
       "    <tr>\n",
       "      <th>0</th>\n",
       "      <td>0</td>\n",
       "      <td>pilot_712</td>\n",
       "      <td>@avast_antivirus @WIRED Thanks, will you post ...</td>\n",
       "      <td>0</td>\n",
       "      <td>North East, England</td>\n",
       "      <td>02-Sep-2020</td>\n",
       "      <td>5</td>\n",
       "      <td>False</td>\n",
       "      <td>avast_antivirus  wired thanks  will you post ...</td>\n",
       "      <td>1</td>\n",
       "    </tr>\n",
       "    <tr>\n",
       "      <th>1</th>\n",
       "      <td>1</td>\n",
       "      <td>AwesomenessRM</td>\n",
       "      <td>@torproject @mullvadnet @avast_antivirus @Duck...</td>\n",
       "      <td>0</td>\n",
       "      <td>NaN</td>\n",
       "      <td>02-Sep-2020</td>\n",
       "      <td>1</td>\n",
       "      <td>False</td>\n",
       "      <td>torproject  mullvadnet  avast_antivirus  duck...</td>\n",
       "      <td>1</td>\n",
       "    </tr>\n",
       "    <tr>\n",
       "      <th>2</th>\n",
       "      <td>2</td>\n",
       "      <td>diamondonyx7</td>\n",
       "      <td>@avast_antivirus please I need you guys to che...</td>\n",
       "      <td>0</td>\n",
       "      <td>NaN</td>\n",
       "      <td>01-Sep-2020</td>\n",
       "      <td>13</td>\n",
       "      <td>False</td>\n",
       "      <td>avast_antivirus please i need you guys to che...</td>\n",
       "      <td>1</td>\n",
       "    </tr>\n",
       "    <tr>\n",
       "      <th>3</th>\n",
       "      <td>3</td>\n",
       "      <td>CppProgrammer23</td>\n",
       "      <td>@hankadusikova @gregcons @avast_antivirus @CCl...</td>\n",
       "      <td>0</td>\n",
       "      <td>Denver, CO</td>\n",
       "      <td>01-Sep-2020</td>\n",
       "      <td>8</td>\n",
       "      <td>False</td>\n",
       "      <td>hankadusikova  gregcons  avast_antivirus  ccl...</td>\n",
       "      <td>0</td>\n",
       "    </tr>\n",
       "    <tr>\n",
       "      <th>4</th>\n",
       "      <td>4</td>\n",
       "      <td>pilot_712</td>\n",
       "      <td>@avast_antivirus @WIRED Presumably @avast_anti...</td>\n",
       "      <td>0</td>\n",
       "      <td>North East, England</td>\n",
       "      <td>01-Sep-2020</td>\n",
       "      <td>5</td>\n",
       "      <td>False</td>\n",
       "      <td>avast_antivirus  wired presumably  avast_anti...</td>\n",
       "      <td>1</td>\n",
       "    </tr>\n",
       "    <tr>\n",
       "      <th>...</th>\n",
       "      <td>...</td>\n",
       "      <td>...</td>\n",
       "      <td>...</td>\n",
       "      <td>...</td>\n",
       "      <td>...</td>\n",
       "      <td>...</td>\n",
       "      <td>...</td>\n",
       "      <td>...</td>\n",
       "      <td>...</td>\n",
       "      <td>...</td>\n",
       "    </tr>\n",
       "    <tr>\n",
       "      <th>193714</th>\n",
       "      <td>167986</td>\n",
       "      <td>ANSSI_FR</td>\n",
       "      <td>The #Cyber Crisis Liaison Organisation Network...</td>\n",
       "      <td>4</td>\n",
       "      <td>Paris</td>\n",
       "      <td>29-Sep-2020</td>\n",
       "      <td>50045</td>\n",
       "      <td>True</td>\n",
       "      <td>the  cyber crisis liaison organisation network...</td>\n",
       "      <td>0</td>\n",
       "    </tr>\n",
       "    <tr>\n",
       "      <th>193715</th>\n",
       "      <td>167987</td>\n",
       "      <td>ANSSI_FR</td>\n",
       "      <td>#BlueOlex20 aims to test the #EU preparedness ...</td>\n",
       "      <td>0</td>\n",
       "      <td>Paris</td>\n",
       "      <td>29-Sep-2020</td>\n",
       "      <td>50045</td>\n",
       "      <td>True</td>\n",
       "      <td>blueolex20 aims to test the  eu preparedness ...</td>\n",
       "      <td>1</td>\n",
       "    </tr>\n",
       "    <tr>\n",
       "      <th>193716</th>\n",
       "      <td>167988</td>\n",
       "      <td>Cybersec_EU</td>\n",
       "      <td>Join today at 14h00 CET, #CNECTUniversity’s se...</td>\n",
       "      <td>11</td>\n",
       "      <td>Brussels</td>\n",
       "      <td>28-Sep-2020</td>\n",
       "      <td>15830</td>\n",
       "      <td>False</td>\n",
       "      <td>join today at 14h00 cet   cnectuniversity’s se...</td>\n",
       "      <td>1</td>\n",
       "    </tr>\n",
       "    <tr>\n",
       "      <th>193717</th>\n",
       "      <td>167989</td>\n",
       "      <td>SOMAObservatory</td>\n",
       "      <td>#TOMORROW our Project Coordinator @nikossarris...</td>\n",
       "      <td>3</td>\n",
       "      <td>Greece, Athens</td>\n",
       "      <td>28-Sep-2020</td>\n",
       "      <td>2061</td>\n",
       "      <td>True</td>\n",
       "      <td>tomorrow our project coordinator  nikossarris...</td>\n",
       "      <td>0</td>\n",
       "    </tr>\n",
       "    <tr>\n",
       "      <th>193718</th>\n",
       "      <td>167990</td>\n",
       "      <td>concordiah2020</td>\n",
       "      <td>Do not miss our new blog post in which we pres...</td>\n",
       "      <td>9</td>\n",
       "      <td>Europe</td>\n",
       "      <td>24-Sep-2020</td>\n",
       "      <td>1145</td>\n",
       "      <td>False</td>\n",
       "      <td>do not miss our new blog post in which we pres...</td>\n",
       "      <td>0</td>\n",
       "    </tr>\n",
       "  </tbody>\n",
       "</table>\n",
       "<p>167994 rows × 10 columns</p>\n",
       "</div>"
      ],
      "text/plain": [
       "       Unnamed: 0             name  \\\n",
       "0               0        pilot_712   \n",
       "1               1    AwesomenessRM   \n",
       "2               2     diamondonyx7   \n",
       "3               3  CppProgrammer23   \n",
       "4               4        pilot_712   \n",
       "...           ...              ...   \n",
       "193714     167986         ANSSI_FR   \n",
       "193715     167987         ANSSI_FR   \n",
       "193716     167988      Cybersec_EU   \n",
       "193717     167989  SOMAObservatory   \n",
       "193718     167990   concordiah2020   \n",
       "\n",
       "                                                    tweet retweets  \\\n",
       "0       @avast_antivirus @WIRED Thanks, will you post ...        0   \n",
       "1       @torproject @mullvadnet @avast_antivirus @Duck...        0   \n",
       "2       @avast_antivirus please I need you guys to che...        0   \n",
       "3       @hankadusikova @gregcons @avast_antivirus @CCl...        0   \n",
       "4       @avast_antivirus @WIRED Presumably @avast_anti...        0   \n",
       "...                                                   ...      ...   \n",
       "193714  The #Cyber Crisis Liaison Organisation Network...        4   \n",
       "193715  #BlueOlex20 aims to test the #EU preparedness ...        0   \n",
       "193716  Join today at 14h00 CET, #CNECTUniversity’s se...       11   \n",
       "193717  #TOMORROW our Project Coordinator @nikossarris...        3   \n",
       "193718  Do not miss our new blog post in which we pres...        9   \n",
       "\n",
       "                   location      created followers is_user_verified  \\\n",
       "0       North East, England  02-Sep-2020         5            False   \n",
       "1                       NaN  02-Sep-2020         1            False   \n",
       "2                       NaN  01-Sep-2020        13            False   \n",
       "3                Denver, CO  01-Sep-2020         8            False   \n",
       "4       North East, England  01-Sep-2020         5            False   \n",
       "...                     ...          ...       ...              ...   \n",
       "193714                Paris  29-Sep-2020     50045             True   \n",
       "193715                Paris  29-Sep-2020     50045             True   \n",
       "193716             Brussels  28-Sep-2020     15830            False   \n",
       "193717       Greece, Athens  28-Sep-2020      2061             True   \n",
       "193718               Europe  24-Sep-2020      1145            False   \n",
       "\n",
       "                                                    clean  pred_label  \n",
       "0        avast_antivirus  wired thanks  will you post ...           1  \n",
       "1        torproject  mullvadnet  avast_antivirus  duck...           1  \n",
       "2        avast_antivirus please i need you guys to che...           1  \n",
       "3        hankadusikova  gregcons  avast_antivirus  ccl...           0  \n",
       "4        avast_antivirus  wired presumably  avast_anti...           1  \n",
       "...                                                   ...         ...  \n",
       "193714  the  cyber crisis liaison organisation network...           0  \n",
       "193715   blueolex20 aims to test the  eu preparedness ...           1  \n",
       "193716  join today at 14h00 cet   cnectuniversity’s se...           1  \n",
       "193717   tomorrow our project coordinator  nikossarris...           0  \n",
       "193718  do not miss our new blog post in which we pres...           0  \n",
       "\n",
       "[167994 rows x 10 columns]"
      ]
     },
     "execution_count": 225,
     "metadata": {},
     "output_type": "execute_result"
    }
   ],
   "source": [
    "YT_pred = model.predict(F)\n",
    "YT_pred=(YT_pred.argmax(1))\n",
    "df3[\"pred_label\"] = YT_pred\n",
    "df3"
   ]
  },
  {
   "cell_type": "code",
   "execution_count": 227,
   "metadata": {},
   "outputs": [
    {
     "data": {
      "text/plain": [
       "'the  cyber crisis liaison organisation network   cyclone  is a new cooperation network   composed of the 27 member states 🇪🇺  launched during  blueolex20  enisa_eu  cybersec_eu  eu_commission  ncsc_nl  https   t co eyy8qakaru'"
      ]
     },
     "execution_count": 227,
     "metadata": {},
     "output_type": "execute_result"
    }
   ],
   "source": [
    "df3.clean[193714]"
   ]
  },
  {
   "cell_type": "code",
   "execution_count": 229,
   "metadata": {},
   "outputs": [],
   "source": [
    "df3.to_csv('/home/adewopva/OneDrive/Independent_Study/Thesis/FEBPredictionsalldata.csv')"
   ]
  },
  {
   "cell_type": "code",
   "execution_count": null,
   "metadata": {},
   "outputs": [],
   "source": []
  }
 ],
 "metadata": {
  "kernelspec": {
   "display_name": "Python 3",
   "language": "python",
   "name": "python3"
  },
  "language_info": {
   "codemirror_mode": {
    "name": "ipython",
    "version": 3
   },
   "file_extension": ".py",
   "mimetype": "text/x-python",
   "name": "python",
   "nbconvert_exporter": "python",
   "pygments_lexer": "ipython3",
   "version": "3.8.5"
  }
 },
 "nbformat": 4,
 "nbformat_minor": 1
}
